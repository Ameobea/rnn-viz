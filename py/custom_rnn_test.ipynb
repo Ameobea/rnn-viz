{
  "cells": [
    {
      "cell_type": "code",
      "execution_count": 1,
      "metadata": {},
      "outputs": [
        {
          "name": "stderr",
          "output_type": "stream",
          "text": [
            "2023-06-09 09:47:44.781672: I tensorflow/core/platform/cpu_feature_guard.cc:193] This TensorFlow binary is optimized with oneAPI Deep Neural Network Library (oneDNN) to use the following CPU instructions in performance-critical operations:  SSE3 SSE4.1 SSE4.2 AVX AVX2 AVX512F AVX512_VNNI AVX512_BF16 FMA\n",
            "To enable them in other operations, rebuild TensorFlow with the appropriate compiler flags.\n",
            "2023-06-09 09:47:44.849211: I tensorflow/core/util/port.cc:104] oneDNN custom operations are on. You may see slightly different numerical results due to floating-point round-off errors from different computation orders. To turn them off, set the environment variable `TF_ENABLE_ONEDNN_OPTS=0`.\n"
          ]
        },
        {
          "name": "stdout",
          "output_type": "stream",
          "text": [
            "1 Physical GPUs, 1 Logical GPUs\n"
          ]
        },
        {
          "name": "stderr",
          "output_type": "stream",
          "text": [
            "2023-06-09 09:47:45.795621: I tensorflow/compiler/xla/stream_executor/rocm/rocm_gpu_executor.cc:843] successful NUMA node read from SysFS had negative value (-1), but there must be at least one NUMA node, so returning NUMA node zero\n",
            "2023-06-09 09:47:45.795654: I tensorflow/compiler/xla/stream_executor/rocm/rocm_gpu_executor.cc:843] successful NUMA node read from SysFS had negative value (-1), but there must be at least one NUMA node, so returning NUMA node zero\n",
            "2023-06-09 09:47:45.802565: I tensorflow/compiler/xla/stream_executor/rocm/rocm_gpu_executor.cc:843] successful NUMA node read from SysFS had negative value (-1), but there must be at least one NUMA node, so returning NUMA node zero\n",
            "2023-06-09 09:47:45.802588: I tensorflow/compiler/xla/stream_executor/rocm/rocm_gpu_executor.cc:843] successful NUMA node read from SysFS had negative value (-1), but there must be at least one NUMA node, so returning NUMA node zero\n",
            "2023-06-09 09:47:45.802599: I tensorflow/compiler/xla/stream_executor/rocm/rocm_gpu_executor.cc:843] successful NUMA node read from SysFS had negative value (-1), but there must be at least one NUMA node, so returning NUMA node zero\n",
            "2023-06-09 09:47:45.802625: I tensorflow/compiler/xla/stream_executor/rocm/rocm_gpu_executor.cc:843] successful NUMA node read from SysFS had negative value (-1), but there must be at least one NUMA node, so returning NUMA node zero\n",
            "2023-06-09 09:47:45.802634: I tensorflow/core/common_runtime/gpu/gpu_device.cc:2006] Ignoring visible gpu device (device: 1, name: AMD Radeon Graphics, pci bus id: 0000:1a:00.0) with core count: 1. The minimum required count is 8. You can adjust this requirement with the env var TF_MIN_GPU_MULTIPROCESSOR_COUNT.\n",
            "2023-06-09 09:47:45.803042: I tensorflow/core/platform/cpu_feature_guard.cc:193] This TensorFlow binary is optimized with oneAPI Deep Neural Network Library (oneDNN) to use the following CPU instructions in performance-critical operations:  SSE3 SSE4.1 SSE4.2 AVX AVX2 AVX512F AVX512_VNNI AVX512_BF16 FMA\n",
            "To enable them in other operations, rebuild TensorFlow with the appropriate compiler flags.\n",
            "2023-06-09 09:47:45.803823: I tensorflow/compiler/xla/stream_executor/rocm/rocm_gpu_executor.cc:843] successful NUMA node read from SysFS had negative value (-1), but there must be at least one NUMA node, so returning NUMA node zero\n",
            "2023-06-09 09:47:45.803850: I tensorflow/compiler/xla/stream_executor/rocm/rocm_gpu_executor.cc:843] successful NUMA node read from SysFS had negative value (-1), but there must be at least one NUMA node, so returning NUMA node zero\n",
            "2023-06-09 09:47:45.803861: I tensorflow/compiler/xla/stream_executor/rocm/rocm_gpu_executor.cc:843] successful NUMA node read from SysFS had negative value (-1), but there must be at least one NUMA node, so returning NUMA node zero\n",
            "2023-06-09 09:47:45.803916: I tensorflow/compiler/xla/stream_executor/rocm/rocm_gpu_executor.cc:843] successful NUMA node read from SysFS had negative value (-1), but there must be at least one NUMA node, so returning NUMA node zero\n",
            "2023-06-09 09:47:45.803930: I tensorflow/compiler/xla/stream_executor/rocm/rocm_gpu_executor.cc:843] successful NUMA node read from SysFS had negative value (-1), but there must be at least one NUMA node, so returning NUMA node zero\n",
            "2023-06-09 09:47:45.803941: I tensorflow/compiler/xla/stream_executor/rocm/rocm_gpu_executor.cc:843] successful NUMA node read from SysFS had negative value (-1), but there must be at least one NUMA node, so returning NUMA node zero\n",
            "2023-06-09 09:47:45.803950: I tensorflow/core/common_runtime/gpu/gpu_device.cc:1613] Created device /job:localhost/replica:0/task:0/device:GPU:0 with 16024 MB memory:  -> device: 0, name: Radeon RX 7900 XTX, pci bus id: 0000:03:00.0\n"
          ]
        }
      ],
      "source": [
        "import tensorflow as tf\n",
        "\n",
        "gpus = tf.config.list_physical_devices('GPU')\n",
        "if gpus:\n",
        "  # Restrict TensorFlow to only allocate 16GB of memory on the first GPU\n",
        "  try:\n",
        "    tf.config.set_logical_device_configuration(\n",
        "        gpus[0],\n",
        "        [tf.config.LogicalDeviceConfiguration(memory_limit=16024)])\n",
        "    logical_gpus = tf.config.list_logical_devices('GPU')\n",
        "    print(len(gpus), \"Physical GPUs,\", len(logical_gpus), \"Logical GPUs\")\n",
        "  except RuntimeError as e:\n",
        "    # Virtual devices must be set before GPUs have been initialized\n",
        "    print(e)"
      ]
    },
    {
      "cell_type": "code",
      "execution_count": 2,
      "metadata": {
        "id": "srXQh3yMY4mG"
      },
      "outputs": [],
      "source": [
        "import tensorflow as tf\n",
        "from tensorflow.keras.layers import Layer\n",
        "from tensorflow.keras import initializers, regularizers\n",
        "\n",
        "\n",
        "class CustomRNNCell(Layer):\n",
        "    def __init__(\n",
        "        self,\n",
        "        output_dim,\n",
        "        state_size,\n",
        "        activation=tf.nn.tanh,\n",
        "        use_bias=True,\n",
        "        kernel_initializer=\"glorot_uniform\",\n",
        "        recurrent_initializer=\"orthogonal\",\n",
        "        bias_initializer=\"zeros\",\n",
        "        initial_state_initializer=\"zeros\",\n",
        "        kernel_regularizer=None,\n",
        "        recurrent_regularizer=None,\n",
        "        bias_regularizer=None,\n",
        "        trainable_initial_weights=False,\n",
        "        **kwargs\n",
        "    ):\n",
        "        super(CustomRNNCell, self).__init__(**kwargs)\n",
        "\n",
        "        self.output_dim = output_dim\n",
        "        self.state_size = state_size\n",
        "        self.activation = tf.keras.activations.get(activation)\n",
        "        self.use_bias = use_bias\n",
        "\n",
        "        self.kernel_initializer = initializers.get(kernel_initializer)\n",
        "        self.recurrent_initializer = initializers.get(recurrent_initializer)\n",
        "        self.bias_initializer = initializers.get(bias_initializer)\n",
        "        self.initial_state_initializer = initializers.get(initial_state_initializer)\n",
        "\n",
        "        self.kernel_regularizer = regularizers.get(kernel_regularizer)\n",
        "        self.recurrent_regularizer = regularizers.get(recurrent_regularizer)\n",
        "        self.bias_regularizer = regularizers.get(bias_regularizer)\n",
        "\n",
        "        self.trainable_initial_weights = trainable_initial_weights\n",
        "\n",
        "    def build(self, input_shape):\n",
        "        self.kernel = self.add_weight(\n",
        "            shape=(input_shape[-1] + self.state_size, self.output_dim),\n",
        "            initializer=self.kernel_initializer,\n",
        "            name=\"kernel\",\n",
        "            regularizer=self.kernel_regularizer,\n",
        "        )\n",
        "\n",
        "        self.recurrent_kernel = self.add_weight(\n",
        "            shape=(input_shape[-1] + self.state_size, self.state_size),\n",
        "            initializer=self.recurrent_initializer,\n",
        "            name=\"recurrent_kernel\",\n",
        "            regularizer=self.recurrent_regularizer,\n",
        "        )\n",
        "\n",
        "        if self.use_bias:\n",
        "            self.bias = self.add_weight(\n",
        "                shape=(self.output_dim,),\n",
        "                initializer=self.bias_initializer,\n",
        "                name=\"bias\",\n",
        "                regularizer=self.bias_regularizer,\n",
        "            )\n",
        "\n",
        "            self.recurrent_bias = self.add_weight(\n",
        "                shape=(self.state_size,),\n",
        "                initializer=self.bias_initializer,\n",
        "                name=\"recurrent_bias\",\n",
        "                regularizer=self.bias_regularizer,\n",
        "            )\n",
        "\n",
        "        self.initial_state = self.add_weight(\n",
        "            shape=(self.state_size,),\n",
        "            initializer=self.initial_state_initializer,\n",
        "            name=\"initial_state\",\n",
        "            trainable=self.trainable_initial_weights,\n",
        "        )\n",
        "\n",
        "    def call(self, inputs, states):\n",
        "        prev_output = states[0]\n",
        "        if len(prev_output.shape) == 1:\n",
        "            prev_output = tf.repeat(tf.expand_dims(prev_output, 0), repeats=tf.shape(inputs)[0], axis=0)\n",
        "\n",
        "        combined_inputs = tf.concat([inputs, prev_output], axis=1)\n",
        "        h = tf.matmul(combined_inputs, self.kernel)\n",
        "        if self.use_bias:\n",
        "            h = tf.nn.bias_add(h, self.bias)\n",
        "\n",
        "        output = self.activation(h)\n",
        "\n",
        "        h_recurrent = tf.matmul(combined_inputs, self.recurrent_kernel)\n",
        "        if self.use_bias:\n",
        "            h_recurrent = tf.nn.bias_add(h_recurrent, self.recurrent_bias)\n",
        "\n",
        "        new_state = self.activation(h_recurrent)\n",
        "\n",
        "        return output, [new_state]\n",
        "\n",
        "    def get_initial_state(self, batch_size, dtype=None):\n",
        "        # tile initial state to batch size\n",
        "        initial_state = tf.tile(tf.expand_dims(self.initial_state, 0), [batch_size, 1])\n",
        "        return [initial_state]\n",
        "\n",
        "    def get_config(self):\n",
        "        config = super(CustomRNNCell, self).get_config()\n",
        "        config.update(\n",
        "            {\n",
        "                \"output_dim\": self.output_dim,\n",
        "                \"state_size\": self.state_size,\n",
        "                \"activation\": tf.keras.activations.serialize(self.activation),\n",
        "                \"use_bias\": self.use_bias,\n",
        "                \"kernel_initializer\": initializers.serialize(self.kernel_initializer),\n",
        "                \"recurrent_initializer\": initializers.serialize(self.recurrent_initializer),\n",
        "                \"bias_initializer\": initializers.serialize(self.bias_initializer),\n",
        "                \"kernel_regularizer\": regularizers.serialize(self.kernel_regularizer),\n",
        "                \"recurrent_regularizer\": regularizers.serialize(self.recurrent_regularizer),\n",
        "                \"bias_regularizer\": regularizers.serialize(self.bias_regularizer),\n",
        "                \"trainable_initial_weights\": self.trainable_initial_weights,\n",
        "            }\n",
        "        )\n",
        "        return config\n",
        "\n",
        "\n",
        "class CustomRNN(Layer):\n",
        "    def __init__(self, cell, return_sequences=False, return_state=False, **kwargs):\n",
        "        super(CustomRNN, self).__init__(**kwargs)\n",
        "        self.cell = cell\n",
        "        self.return_sequences = return_sequences\n",
        "        self.return_state = return_state\n",
        "        self.states = None\n",
        "\n",
        "    def build(self, input_shape):\n",
        "        self.cell.build(input_shape)\n",
        "        self.built = True\n",
        "\n",
        "    def call(self, inputs):\n",
        "        batch_size = tf.shape(inputs)[0]\n",
        "        self.states = self.cell.get_initial_state(batch_size)\n",
        "        outputs = []\n",
        "        for t in range(inputs.shape[1]):\n",
        "            output, self.states = self.cell(inputs[:, t], self.states)\n",
        "            outputs.append(output)\n",
        "\n",
        "        if self.return_sequences:\n",
        "            output = tf.stack(outputs, axis=1)\n",
        "        else:\n",
        "            output = outputs[-1]\n",
        "\n",
        "        if self.return_state:\n",
        "            return output, self.states\n",
        "        else:\n",
        "            return output\n"
      ]
    },
    {
      "cell_type": "code",
      "execution_count": 3,
      "metadata": {
        "id": "T0ymxRZVkCDN"
      },
      "outputs": [],
      "source": [
        "import tensorflow as tf\n",
        "from tensorflow.keras import regularizers\n",
        "import math\n",
        "\n",
        "class SparseRegularizer(regularizers.Regularizer):\n",
        "    def __init__(self, intensity=0.1, threshold=0.1, steepness=100, l1=0.001):\n",
        "        self.intensity = tf.constant(intensity, dtype=tf.float32)\n",
        "        self.threshold = tf.constant(threshold, dtype=tf.float32)\n",
        "        self.steepness = tf.constant(steepness, dtype=tf.float32)\n",
        "        self.y_shift = tf.math.tanh(-self.threshold * self.steepness)\n",
        "        self.l1_intensity = tf.constant(l1, dtype=tf.float32)\n",
        "\n",
        "    def __call__(self, x):\n",
        "        # abs(x - threshold)\n",
        "        abs_weights = tf.math.abs(x)\n",
        "        shifted_weights = abs_weights - self.threshold\n",
        "\n",
        "        # tanh((x - threshold) * steepness) - tanh(-threshold * steepness)\n",
        "        tanh_weights = tf.math.tanh(shifted_weights * self.steepness) - self.y_shift\n",
        "\n",
        "        # Add a bit of l1 regularization. This seems to be important to prevent very large weights.\n",
        "        l1_weight = tf.reduce_mean(abs_weights) * self.l1_intensity\n",
        "\n",
        "        # Sum over all elements and scale by intensity\n",
        "        penalty = tf.reduce_mean(tanh_weights) * self.intensity + l1_weight\n",
        "        return penalty\n",
        "\n",
        "    def get_config(self):\n",
        "        return {'intensity': float(self.intensity), \n",
        "                'threshold': float(self.threshold), \n",
        "                'steepness': float(self.steepness),\n",
        "                'l1': float(self.l1_intensity)}\n"
      ]
    },
    {
      "cell_type": "code",
      "execution_count": 4,
      "metadata": {
        "colab": {
          "base_uri": "https://localhost:8080/",
          "height": 564
        },
        "id": "yyXYD35HosaM",
        "outputId": "78df4794-0db5-4120-82f7-0d011f7111b8"
      },
      "outputs": [
        {
          "name": "stderr",
          "output_type": "stream",
          "text": [
            "2023-06-09 09:47:55.269938: I tensorflow/core/common_runtime/gpu_fusion_pass.cc:507] ROCm Fusion is enabled.\n",
            "2023-06-09 09:47:55.352806: I tensorflow/core/common_runtime/gpu_fusion_pass.cc:507] ROCm Fusion is enabled.\n",
            "2023-06-09 09:47:55.353698: I tensorflow/core/common_runtime/gpu_fusion_pass.cc:507] ROCm Fusion is enabled.\n",
            "2023-06-09 09:47:55.354201: I tensorflow/core/common_runtime/gpu_fusion_pass.cc:507] ROCm Fusion is enabled.\n",
            "2023-06-09 09:47:55.357452: I tensorflow/core/common_runtime/gpu_fusion_pass.cc:507] ROCm Fusion is enabled.\n",
            "2023-06-09 09:47:55.358173: I tensorflow/core/common_runtime/gpu_fusion_pass.cc:507] ROCm Fusion is enabled.\n",
            "2023-06-09 09:47:55.358582: I tensorflow/core/common_runtime/gpu_fusion_pass.cc:507] ROCm Fusion is enabled.\n",
            "2023-06-09 09:47:55.359159: I tensorflow/core/common_runtime/gpu_fusion_pass.cc:507] ROCm Fusion is enabled.\n",
            "2023-06-09 09:47:55.359820: I tensorflow/core/common_runtime/gpu_fusion_pass.cc:507] ROCm Fusion is enabled.\n",
            "2023-06-09 09:47:55.360330: I tensorflow/core/common_runtime/gpu_fusion_pass.cc:507] ROCm Fusion is enabled.\n"
          ]
        },
        {
          "data": {
            "image/png": "[encoded data removed]",
            "text/plain": [
              "<Figure size 1000x600 with 1 Axes>"
            ]
          },
          "metadata": {},
          "output_type": "display_data"
        }
      ],
      "source": [
        "import numpy as np\n",
        "import matplotlib.pyplot as plt\n",
        "import tensorflow as tf\n",
        "\n",
        "# initialize the regularizer\n",
        "reg = SparseRegularizer(intensity=0.1, threshold=0.0001, steepness=250, l1=0.01)\n",
        "\n",
        "# create an array of weight values\n",
        "weights = np.linspace(0, 0.5, 200)\n",
        "\n",
        "# initialize an empty list to store the corresponding loss values\n",
        "loss_values = []\n",
        "\n",
        "# compute the loss for each weight\n",
        "for weight in weights:\n",
        "    weight_tensor = tf.constant(weight, shape=(1,1), dtype=tf.float32)\n",
        "    loss = reg(weight_tensor)\n",
        "    loss_values.append(loss.numpy())\n",
        "\n",
        "# plot the results\n",
        "plt.figure(figsize=(10, 6))\n",
        "plt.plot(weights, loss_values)\n",
        "plt.xlabel('Weights')\n",
        "plt.ylabel('Loss')\n",
        "plt.title('Loss for different weights with SparseRegularizer')\n",
        "plt.grid(True)\n",
        "plt.show()\n"
      ]
    },
    {
      "cell_type": "code",
      "execution_count": 5,
      "metadata": {
        "id": "vizkPW8Uu3P2"
      },
      "outputs": [],
      "source": [
        "import tensorflow as tf\n",
        "from tensorflow.keras.utils import get_custom_objects\n",
        "\n",
        "\n",
        "def ameo_grad(x):\n",
        "    return tf.where(\n",
        "        (x <= -1.0) & (x > -2.0) | ((x <= 1.0) & (x > 0.0)), 1.0, tf.where((x <= 0.0) & (x > -1.0), -1.0, 0.0)\n",
        "    )\n",
        "\n",
        "\n",
        "@tf.custom_gradient\n",
        "def ameo(x, **kwargs):\n",
        "    x *= 0.5\n",
        "    x -= 0.5\n",
        "    y = tf.where(x <= -1.0, tf.maximum(x + 2.0, 0.0), tf.where(x <= 0.0, -x, tf.minimum(x, 1.0)))\n",
        "    y = (y - 0.5) * 2.0\n",
        "\n",
        "    def grad(dy):\n",
        "        return dy * ameo_grad(x)\n",
        "\n",
        "    return y, grad\n",
        "\n",
        "\n",
        "def soft_leaky_ameo_grad(x, leakyness):\n",
        "    condition1_grad = tf.logical_and(-2 <= x, x <= -1.5)\n",
        "    condition2_grad = tf.logical_and(-1.5 < x, x <= -0.5)\n",
        "    condition3_grad = tf.logical_and(-0.5 < x, x <= 0.5)\n",
        "    condition4_grad = tf.logical_and(0.5 < x, x <= 1)\n",
        "\n",
        "    grad = tf.where(\n",
        "        x <= -2,\n",
        "        leakyness,\n",
        "        tf.where(\n",
        "            condition1_grad,\n",
        "            32 * tf.pow(x + 2, 3),\n",
        "            tf.where(\n",
        "                condition2_grad,\n",
        "                -32 * tf.pow(x, 3) - 96 * tf.pow(x, 2) - 96 * x - 32,\n",
        "                tf.where(\n",
        "                    condition3_grad,\n",
        "                    32 * tf.pow(x, 3),\n",
        "                    tf.where(condition4_grad, -32 * tf.pow(x, 3) + 96 * tf.pow(x, 2) - 96 * x + 32, leakyness),\n",
        "                ),\n",
        "            ),\n",
        "        ),\n",
        "    )\n",
        "    return grad\n",
        "\n",
        "\n",
        "@tf.custom_gradient\n",
        "def soft_leaky_ameo(x, leakyness, **kwargs):\n",
        "    x *= 0.5\n",
        "    x -= 0.5\n",
        "\n",
        "    condition1 = tf.logical_and(-2 <= x, x <= -1.5)\n",
        "    condition2 = tf.logical_and(-1.5 < x, x <= -0.5)\n",
        "    condition3 = tf.logical_and(-0.5 < x, x <= 0.5)\n",
        "    condition4 = tf.logical_and(0.5 < x, x <= 1)\n",
        "\n",
        "    y = tf.where(\n",
        "        x <= -2,\n",
        "        leakyness * (x + 2),\n",
        "        tf.where(\n",
        "            condition1,\n",
        "            8 * tf.pow(x + 2, 4),\n",
        "            tf.where(\n",
        "                condition2,\n",
        "                -8 * tf.pow(x, 4) - 32 * tf.pow(x, 3) - 48 * tf.pow(x, 2) - 32 * x - 7,\n",
        "                tf.where(\n",
        "                    condition3,\n",
        "                    8 * tf.pow(x, 4),\n",
        "                    tf.where(\n",
        "                        condition4,\n",
        "                        -8 * tf.pow(x, 4) + 32 * tf.pow(x, 3) - 48 * tf.pow(x, 2) + 32 * x - 7,\n",
        "                        leakyness * (x - 1) + 1,\n",
        "                    ),\n",
        "                ),\n",
        "            ),\n",
        "        ),\n",
        "    )\n",
        "    y = (y - 0.5) * 2\n",
        "\n",
        "    def grad(dy):\n",
        "        return dy * soft_leaky_ameo_grad(x, leakyness), None\n",
        "\n",
        "    return y, grad\n",
        "\n",
        "\n",
        "@tf.custom_gradient\n",
        "def interpolated_ameo(x, factor, leakyness, **kwargs):\n",
        "    # print(factor)\n",
        "    # if factor < 0 or factor > 1:\n",
        "    #     raise ValueError(\"`factor` must be between 0 and 1\")\n",
        "\n",
        "    y0_mix = factor\n",
        "    y1_mix = 1 - factor\n",
        "\n",
        "    y0 = ameo(x) * y0_mix\n",
        "    y1 = soft_leaky_ameo(x, leakyness) * y1_mix\n",
        "\n",
        "    y = y0 + y1\n",
        "\n",
        "    def grad(dy):\n",
        "        dy0 = ameo_grad(x) * dy * y0_mix\n",
        "        dy1 = soft_leaky_ameo_grad(x, leakyness) * dy * y1_mix\n",
        "        return dy0 + dy1, None, None\n",
        "\n",
        "    return y, grad\n",
        "\n",
        "\n",
        "class AmeoActivation(tf.keras.layers.Layer):\n",
        "    def __init__(self, **kwargs):\n",
        "        super(AmeoActivation, self).__init__(**kwargs)\n",
        "\n",
        "    def call(self, inputs):\n",
        "        return ameo(inputs)\n",
        "\n",
        "    def get_config(self):\n",
        "        config = super(AmeoActivation, self).get_config()\n",
        "        return config\n",
        "\n",
        "\n",
        "class SoftLeakyAmeoActivation(tf.keras.layers.Layer):\n",
        "    def __init__(self, leakyness, **kwargs):\n",
        "        super(SoftLeakyAmeoActivation, self).__init__(**kwargs)\n",
        "        self.leakyness = leakyness\n",
        "\n",
        "    def call(self, inputs):\n",
        "        return soft_leaky_ameo(inputs, self.leakyness)\n",
        "\n",
        "    def get_config(self):\n",
        "        config = super(SoftLeakyAmeoActivation, self).get_config()\n",
        "        config[\"leakyness\"] = self.leakyness\n",
        "        return config\n",
        "\n",
        "\n",
        "class InterpolatedAmeoActivation(tf.keras.layers.Layer):\n",
        "    def __init__(self, factor, leakyness=0.05, **kwargs):\n",
        "        super(InterpolatedAmeoActivation, self).__init__(**kwargs)\n",
        "        self.factor = factor\n",
        "        self.leakyness = float(leakyness)\n",
        "\n",
        "    def call(self, inputs):\n",
        "        return interpolated_ameo(inputs, self.factor, self.leakyness)\n",
        "\n",
        "    def get_config(self):\n",
        "        config = super(InterpolatedAmeoActivation, self).get_config()\n",
        "        config[\"factor\"] = self.factor\n",
        "        config[\"leakyness\"] = self.leakyness\n",
        "        return config"
      ]
    },
    {
      "cell_type": "code",
      "execution_count": 6,
      "metadata": {
        "colab": {
          "base_uri": "https://localhost:8080/",
          "height": 676
        },
        "id": "hrXJkCMju4ox",
        "outputId": "c3dab65e-d8fc-430b-faca-4cfa99866748"
      },
      "outputs": [
        {
          "name": "stderr",
          "output_type": "stream",
          "text": [
            "2023-06-09 09:49:35.251657: I tensorflow/core/common_runtime/gpu_fusion_pass.cc:507] ROCm Fusion is enabled.\n",
            "2023-06-09 09:49:35.252243: I tensorflow/core/common_runtime/gpu_fusion_pass.cc:507] ROCm Fusion is enabled.\n",
            "2023-06-09 09:49:35.252971: I tensorflow/core/common_runtime/gpu_fusion_pass.cc:507] ROCm Fusion is enabled.\n",
            "2023-06-09 09:49:35.253427: I tensorflow/core/common_runtime/gpu_fusion_pass.cc:507] ROCm Fusion is enabled.\n",
            "2023-06-09 09:49:35.253888: I tensorflow/core/common_runtime/gpu_fusion_pass.cc:507] ROCm Fusion is enabled.\n",
            "2023-06-09 09:49:35.254371: I tensorflow/core/common_runtime/gpu_fusion_pass.cc:507] ROCm Fusion is enabled.\n",
            "2023-06-09 09:49:35.254819: I tensorflow/core/common_runtime/gpu_fusion_pass.cc:507] ROCm Fusion is enabled.\n",
            "2023-06-09 09:49:35.255644: I tensorflow/core/common_runtime/gpu_fusion_pass.cc:507] ROCm Fusion is enabled.\n",
            "2023-06-09 09:49:35.256212: I tensorflow/core/common_runtime/gpu_fusion_pass.cc:507] ROCm Fusion is enabled.\n",
            "2023-06-09 09:49:35.256934: I tensorflow/core/common_runtime/gpu_fusion_pass.cc:507] ROCm Fusion is enabled.\n",
            "2023-06-09 09:49:35.257347: I tensorflow/core/common_runtime/gpu_fusion_pass.cc:507] ROCm Fusion is enabled.\n",
            "2023-06-09 09:49:35.258139: I tensorflow/core/common_runtime/gpu_fusion_pass.cc:507] ROCm Fusion is enabled.\n",
            "2023-06-09 09:49:35.258670: I tensorflow/core/common_runtime/gpu_fusion_pass.cc:507] ROCm Fusion is enabled.\n",
            "2023-06-09 09:49:35.259310: I tensorflow/core/common_runtime/gpu_fusion_pass.cc:507] ROCm Fusion is enabled.\n",
            "2023-06-09 09:49:35.259982: I tensorflow/core/common_runtime/gpu_fusion_pass.cc:507] ROCm Fusion is enabled.\n",
            "2023-06-09 09:49:35.261592: I tensorflow/core/common_runtime/gpu_fusion_pass.cc:507] ROCm Fusion is enabled.\n",
            "2023-06-09 09:49:35.262065: I tensorflow/core/common_runtime/gpu_fusion_pass.cc:507] ROCm Fusion is enabled.\n",
            "2023-06-09 09:49:35.262686: I tensorflow/core/common_runtime/gpu_fusion_pass.cc:507] ROCm Fusion is enabled.\n",
            "2023-06-09 09:49:35.264109: I tensorflow/core/common_runtime/gpu_fusion_pass.cc:507] ROCm Fusion is enabled.\n",
            "2023-06-09 09:49:35.264768: I tensorflow/core/common_runtime/gpu_fusion_pass.cc:507] ROCm Fusion is enabled.\n",
            "2023-06-09 09:49:35.265260: I tensorflow/core/common_runtime/gpu_fusion_pass.cc:507] ROCm Fusion is enabled.\n",
            "2023-06-09 09:49:35.266530: I tensorflow/core/common_runtime/gpu_fusion_pass.cc:507] ROCm Fusion is enabled.\n",
            "2023-06-09 09:49:35.267029: I tensorflow/core/common_runtime/gpu_fusion_pass.cc:507] ROCm Fusion is enabled.\n",
            "2023-06-09 09:49:35.267642: I tensorflow/core/common_runtime/gpu_fusion_pass.cc:507] ROCm Fusion is enabled.\n",
            "2023-06-09 09:49:35.269092: I tensorflow/core/common_runtime/gpu_fusion_pass.cc:507] ROCm Fusion is enabled.\n",
            "2023-06-09 09:49:35.270000: I tensorflow/core/common_runtime/gpu_fusion_pass.cc:507] ROCm Fusion is enabled.\n",
            "2023-06-09 09:49:35.270637: I tensorflow/core/common_runtime/gpu_fusion_pass.cc:507] ROCm Fusion is enabled.\n",
            "2023-06-09 09:49:35.271149: I tensorflow/core/common_runtime/gpu_fusion_pass.cc:507] ROCm Fusion is enabled.\n",
            "2023-06-09 09:49:35.272132: I tensorflow/core/common_runtime/gpu_fusion_pass.cc:507] ROCm Fusion is enabled.\n",
            "2023-06-09 09:49:35.272878: I tensorflow/core/common_runtime/gpu_fusion_pass.cc:507] ROCm Fusion is enabled.\n",
            "2023-06-09 09:49:35.273489: I tensorflow/core/common_runtime/gpu_fusion_pass.cc:507] ROCm Fusion is enabled.\n",
            "2023-06-09 09:49:35.273997: I tensorflow/core/common_runtime/gpu_fusion_pass.cc:507] ROCm Fusion is enabled.\n",
            "2023-06-09 09:49:35.275033: I tensorflow/core/common_runtime/gpu_fusion_pass.cc:507] ROCm Fusion is enabled.\n",
            "2023-06-09 09:49:35.279407: I tensorflow/core/common_runtime/gpu_fusion_pass.cc:507] ROCm Fusion is enabled.\n",
            "2023-06-09 09:49:35.281451: I tensorflow/core/common_runtime/gpu_fusion_pass.cc:507] ROCm Fusion is enabled.\n",
            "2023-06-09 09:49:35.290039: I tensorflow/core/common_runtime/gpu_fusion_pass.cc:507] ROCm Fusion is enabled.\n",
            "2023-06-09 09:49:35.294506: I tensorflow/core/common_runtime/gpu_fusion_pass.cc:507] ROCm Fusion is enabled.\n",
            "2023-06-09 09:49:35.295310: I tensorflow/core/common_runtime/gpu_fusion_pass.cc:507] ROCm Fusion is enabled.\n"
          ]
        },
        {
          "data": {
            "image/png": "[encoded data removed]",
            "text/plain": [
              "<Figure size 1000x800 with 2 Axes>"
            ]
          },
          "metadata": {},
          "output_type": "display_data"
        }
      ],
      "source": [
        "import numpy as np\n",
        "import matplotlib.pyplot as plt\n",
        "import tensorflow as tf\n",
        "\n",
        "x = tf.linspace(-4., 4., num=500)\n",
        "y = interpolated_ameo(x, 0.8, 0.1)\n",
        "dy_dx = None\n",
        "\n",
        "with tf.GradientTape() as g:\n",
        "    g.watch(x)\n",
        "    y = interpolated_ameo(x, 0.8, 0.1)\n",
        "    dy_dx = g.gradient(y, x)\n",
        "\n",
        "plt.figure(figsize=(10, 8))\n",
        "\n",
        "plt.subplot(2, 1, 1)\n",
        "plt.plot(x, y, label='interpolated_ameo')\n",
        "plt.legend()\n",
        "\n",
        "plt.subplot(2, 1, 2)\n",
        "plt.plot(x, dy_dx, label='gradient of interpolated_ameo')\n",
        "plt.legend()\n",
        "\n",
        "plt.show()\n"
      ]
    },
    {
      "cell_type": "code",
      "execution_count": 9,
      "metadata": {
        "colab": {
          "base_uri": "https://localhost:8080/"
        },
        "id": "--VdKRhDZBjr",
        "outputId": "173797bd-e160-436b-dc66-15767c3628dd"
      },
      "outputs": [
        {
          "name": "stderr",
          "output_type": "stream",
          "text": [
            "2023-06-09 09:52:37.482239: I tensorflow/core/common_runtime/gpu_fusion_pass.cc:507] ROCm Fusion is enabled.\n",
            "2023-06-09 09:52:37.482696: I tensorflow/core/common_runtime/gpu_fusion_pass.cc:507] ROCm Fusion is enabled.\n",
            "2023-06-09 09:52:37.483996: I tensorflow/core/common_runtime/gpu_fusion_pass.cc:507] ROCm Fusion is enabled.\n",
            "2023-06-09 09:52:37.484344: I tensorflow/core/common_runtime/gpu_fusion_pass.cc:507] ROCm Fusion is enabled.\n",
            "2023-06-09 09:52:37.484923: I tensorflow/core/common_runtime/gpu_fusion_pass.cc:507] ROCm Fusion is enabled.\n",
            "2023-06-09 09:52:37.485261: I tensorflow/core/common_runtime/gpu_fusion_pass.cc:507] ROCm Fusion is enabled.\n",
            "2023-06-09 09:52:37.485787: I tensorflow/core/common_runtime/gpu_fusion_pass.cc:507] ROCm Fusion is enabled.\n",
            "2023-06-09 09:52:37.486122: I tensorflow/core/common_runtime/gpu_fusion_pass.cc:507] ROCm Fusion is enabled.\n",
            "2023-06-09 09:52:38.013873: I tensorflow/core/common_runtime/gpu_fusion_pass.cc:507] ROCm Fusion is enabled.\n",
            "2023-06-09 09:52:38.014377: I tensorflow/core/common_runtime/gpu_fusion_pass.cc:507] ROCm Fusion is enabled.\n",
            "2023-06-09 09:52:38.026894: I tensorflow/core/common_runtime/gpu_fusion_pass.cc:507] ROCm Fusion is enabled.\n",
            "2023-06-09 09:52:38.031405: I tensorflow/core/common_runtime/gpu_fusion_pass.cc:507] ROCm Fusion is enabled.\n",
            "2023-06-09 09:52:38.035133: I tensorflow/core/common_runtime/gpu_fusion_pass.cc:507] ROCm Fusion is enabled.\n",
            "2023-06-09 09:52:38.039204: I tensorflow/core/common_runtime/gpu_fusion_pass.cc:507] ROCm Fusion is enabled.\n",
            "2023-06-09 09:52:38.041664: I tensorflow/core/common_runtime/gpu_fusion_pass.cc:507] ROCm Fusion is enabled.\n",
            "2023-06-09 09:52:38.043585: I tensorflow/core/common_runtime/gpu_fusion_pass.cc:507] ROCm Fusion is enabled.\n"
          ]
        },
        {
          "name": "stdout",
          "output_type": "stream",
          "text": [
            "Epoch 1/100\n"
          ]
        },
        {
          "name": "stderr",
          "output_type": "stream",
          "text": [
            "2023-06-09 09:52:41.156598: I tensorflow/core/common_runtime/gpu_fusion_pass.cc:507] ROCm Fusion is enabled.\n"
          ]
        },
        {
          "name": "stdout",
          "output_type": "stream",
          "text": [
            "16/16 [==============================] - 4s 9ms/step - loss: 2.1971\n",
            "Epoch 2/100\n",
            "16/16 [==============================] - 0s 9ms/step - loss: 2.2169\n",
            "Epoch 3/100\n",
            " 1/16 [>.............................] - ETA: 0s - loss: 2.0647"
          ]
        },
        {
          "name": "stderr",
          "output_type": "stream",
          "text": [
            "2023-06-09 09:52:42.427836: I tensorflow/core/common_runtime/gpu_fusion_pass.cc:507] ROCm Fusion is enabled.\n",
            "2023-06-09 09:52:42.432667: I tensorflow/core/common_runtime/gpu_fusion_pass.cc:507] ROCm Fusion is enabled.\n",
            "2023-06-09 09:52:42.436522: I tensorflow/core/common_runtime/gpu_fusion_pass.cc:507] ROCm Fusion is enabled.\n",
            "2023-06-09 09:52:42.440364: I tensorflow/core/common_runtime/gpu_fusion_pass.cc:507] ROCm Fusion is enabled.\n",
            "2023-06-09 09:52:42.442998: I tensorflow/core/common_runtime/gpu_fusion_pass.cc:507] ROCm Fusion is enabled.\n",
            "2023-06-09 09:52:42.445011: I tensorflow/core/common_runtime/gpu_fusion_pass.cc:507] ROCm Fusion is enabled.\n",
            "2023-06-09 09:52:42.594860: I tensorflow/core/common_runtime/gpu_fusion_pass.cc:507] ROCm Fusion is enabled.\n",
            "2023-06-09 09:52:42.599856: I tensorflow/core/common_runtime/gpu_fusion_pass.cc:507] ROCm Fusion is enabled.\n",
            "2023-06-09 09:52:42.603700: I tensorflow/core/common_runtime/gpu_fusion_pass.cc:507] ROCm Fusion is enabled.\n",
            "2023-06-09 09:52:42.607545: I tensorflow/core/common_runtime/gpu_fusion_pass.cc:507] ROCm Fusion is enabled.\n",
            "2023-06-09 09:52:42.610134: I tensorflow/core/common_runtime/gpu_fusion_pass.cc:507] ROCm Fusion is enabled.\n",
            "2023-06-09 09:52:42.612105: I tensorflow/core/common_runtime/gpu_fusion_pass.cc:507] ROCm Fusion is enabled.\n"
          ]
        },
        {
          "name": "stdout",
          "output_type": "stream",
          "text": [
            "16/16 [==============================] - 0s 9ms/step - loss: 1.9890\n",
            "Epoch 4/100\n",
            "16/16 [==============================] - 0s 9ms/step - loss: 1.8608\n",
            "Epoch 5/100\n",
            " 1/16 [>.............................] - ETA: 0s - loss: 1.7704"
          ]
        },
        {
          "name": "stderr",
          "output_type": "stream",
          "text": [
            "2023-06-09 09:52:42.761348: I tensorflow/core/common_runtime/gpu_fusion_pass.cc:507] ROCm Fusion is enabled.\n",
            "2023-06-09 09:52:42.766286: I tensorflow/core/common_runtime/gpu_fusion_pass.cc:507] ROCm Fusion is enabled.\n",
            "2023-06-09 09:52:42.770098: I tensorflow/core/common_runtime/gpu_fusion_pass.cc:507] ROCm Fusion is enabled.\n",
            "2023-06-09 09:52:42.773821: I tensorflow/core/common_runtime/gpu_fusion_pass.cc:507] ROCm Fusion is enabled.\n",
            "2023-06-09 09:52:42.776429: I tensorflow/core/common_runtime/gpu_fusion_pass.cc:507] ROCm Fusion is enabled.\n",
            "2023-06-09 09:52:42.778372: I tensorflow/core/common_runtime/gpu_fusion_pass.cc:507] ROCm Fusion is enabled.\n",
            "2023-06-09 09:52:42.930623: I tensorflow/core/common_runtime/gpu_fusion_pass.cc:507] ROCm Fusion is enabled.\n",
            "2023-06-09 09:52:42.935186: I tensorflow/core/common_runtime/gpu_fusion_pass.cc:507] ROCm Fusion is enabled.\n",
            "2023-06-09 09:52:42.938890: I tensorflow/core/common_runtime/gpu_fusion_pass.cc:507] ROCm Fusion is enabled.\n",
            "2023-06-09 09:52:42.942557: I tensorflow/core/common_runtime/gpu_fusion_pass.cc:507] ROCm Fusion is enabled.\n",
            "2023-06-09 09:52:42.945055: I tensorflow/core/common_runtime/gpu_fusion_pass.cc:507] ROCm Fusion is enabled.\n",
            "2023-06-09 09:52:42.946949: I tensorflow/core/common_runtime/gpu_fusion_pass.cc:507] ROCm Fusion is enabled.\n"
          ]
        },
        {
          "name": "stdout",
          "output_type": "stream",
          "text": [
            "16/16 [==============================] - 0s 9ms/step - loss: 1.6130\n",
            "Epoch 6/100\n",
            "16/16 [==============================] - 0s 9ms/step - loss: 1.3355\n",
            "Epoch 7/100\n",
            " 1/16 [>.............................] - ETA: 0s - loss: 1.2468"
          ]
        },
        {
          "name": "stderr",
          "output_type": "stream",
          "text": [
            "2023-06-09 09:52:43.096181: I tensorflow/core/common_runtime/gpu_fusion_pass.cc:507] ROCm Fusion is enabled.\n",
            "2023-06-09 09:52:43.100735: I tensorflow/core/common_runtime/gpu_fusion_pass.cc:507] ROCm Fusion is enabled.\n",
            "2023-06-09 09:52:43.104406: I tensorflow/core/common_runtime/gpu_fusion_pass.cc:507] ROCm Fusion is enabled.\n",
            "2023-06-09 09:52:43.108018: I tensorflow/core/common_runtime/gpu_fusion_pass.cc:507] ROCm Fusion is enabled.\n",
            "2023-06-09 09:52:43.110656: I tensorflow/core/common_runtime/gpu_fusion_pass.cc:507] ROCm Fusion is enabled.\n",
            "2023-06-09 09:52:43.112562: I tensorflow/core/common_runtime/gpu_fusion_pass.cc:507] ROCm Fusion is enabled.\n",
            "2023-06-09 09:52:43.258827: I tensorflow/core/common_runtime/gpu_fusion_pass.cc:507] ROCm Fusion is enabled.\n",
            "2023-06-09 09:52:43.263280: I tensorflow/core/common_runtime/gpu_fusion_pass.cc:507] ROCm Fusion is enabled.\n",
            "2023-06-09 09:52:43.267155: I tensorflow/core/common_runtime/gpu_fusion_pass.cc:507] ROCm Fusion is enabled.\n",
            "2023-06-09 09:52:43.270815: I tensorflow/core/common_runtime/gpu_fusion_pass.cc:507] ROCm Fusion is enabled.\n",
            "2023-06-09 09:52:43.273342: I tensorflow/core/common_runtime/gpu_fusion_pass.cc:507] ROCm Fusion is enabled.\n",
            "2023-06-09 09:52:43.275297: I tensorflow/core/common_runtime/gpu_fusion_pass.cc:507] ROCm Fusion is enabled.\n"
          ]
        },
        {
          "name": "stdout",
          "output_type": "stream",
          "text": [
            "16/16 [==============================] - 0s 9ms/step - loss: 1.1742\n",
            "Epoch 8/100\n",
            "16/16 [==============================] - 0s 9ms/step - loss: 1.0745\n",
            "Epoch 9/100\n",
            " 1/16 [>.............................] - ETA: 0s - loss: 1.0295"
          ]
        },
        {
          "name": "stderr",
          "output_type": "stream",
          "text": [
            "2023-06-09 09:52:43.423429: I tensorflow/core/common_runtime/gpu_fusion_pass.cc:507] ROCm Fusion is enabled.\n",
            "2023-06-09 09:52:43.428006: I tensorflow/core/common_runtime/gpu_fusion_pass.cc:507] ROCm Fusion is enabled.\n",
            "2023-06-09 09:52:43.431662: I tensorflow/core/common_runtime/gpu_fusion_pass.cc:507] ROCm Fusion is enabled.\n",
            "2023-06-09 09:52:43.435315: I tensorflow/core/common_runtime/gpu_fusion_pass.cc:507] ROCm Fusion is enabled.\n",
            "2023-06-09 09:52:43.437804: I tensorflow/core/common_runtime/gpu_fusion_pass.cc:507] ROCm Fusion is enabled.\n",
            "2023-06-09 09:52:43.439719: I tensorflow/core/common_runtime/gpu_fusion_pass.cc:507] ROCm Fusion is enabled.\n",
            "2023-06-09 09:52:43.585245: I tensorflow/core/common_runtime/gpu_fusion_pass.cc:507] ROCm Fusion is enabled.\n",
            "2023-06-09 09:52:43.589731: I tensorflow/core/common_runtime/gpu_fusion_pass.cc:507] ROCm Fusion is enabled.\n",
            "2023-06-09 09:52:43.593569: I tensorflow/core/common_runtime/gpu_fusion_pass.cc:507] ROCm Fusion is enabled.\n",
            "2023-06-09 09:52:43.597267: I tensorflow/core/common_runtime/gpu_fusion_pass.cc:507] ROCm Fusion is enabled.\n",
            "2023-06-09 09:52:43.599826: I tensorflow/core/common_runtime/gpu_fusion_pass.cc:507] ROCm Fusion is enabled.\n",
            "2023-06-09 09:52:43.601727: I tensorflow/core/common_runtime/gpu_fusion_pass.cc:507] ROCm Fusion is enabled.\n"
          ]
        },
        {
          "name": "stdout",
          "output_type": "stream",
          "text": [
            "16/16 [==============================] - 0s 9ms/step - loss: 0.9864\n",
            "Epoch 10/100\n",
            "16/16 [==============================] - 0s 9ms/step - loss: 0.9338\n",
            "Epoch 11/100\n",
            " 1/16 [>.............................] - ETA: 0s - loss: 0.9222"
          ]
        },
        {
          "name": "stderr",
          "output_type": "stream",
          "text": [
            "2023-06-09 09:52:43.751172: I tensorflow/core/common_runtime/gpu_fusion_pass.cc:507] ROCm Fusion is enabled.\n",
            "2023-06-09 09:52:43.755939: I tensorflow/core/common_runtime/gpu_fusion_pass.cc:507] ROCm Fusion is enabled.\n",
            "2023-06-09 09:52:43.759598: I tensorflow/core/common_runtime/gpu_fusion_pass.cc:507] ROCm Fusion is enabled.\n",
            "2023-06-09 09:52:43.763258: I tensorflow/core/common_runtime/gpu_fusion_pass.cc:507] ROCm Fusion is enabled.\n",
            "2023-06-09 09:52:43.765803: I tensorflow/core/common_runtime/gpu_fusion_pass.cc:507] ROCm Fusion is enabled.\n",
            "2023-06-09 09:52:43.767701: I tensorflow/core/common_runtime/gpu_fusion_pass.cc:507] ROCm Fusion is enabled.\n",
            "2023-06-09 09:52:43.913954: I tensorflow/core/common_runtime/gpu_fusion_pass.cc:507] ROCm Fusion is enabled.\n",
            "2023-06-09 09:52:43.918292: I tensorflow/core/common_runtime/gpu_fusion_pass.cc:507] ROCm Fusion is enabled.\n",
            "2023-06-09 09:52:43.922121: I tensorflow/core/common_runtime/gpu_fusion_pass.cc:507] ROCm Fusion is enabled.\n",
            "2023-06-09 09:52:43.925694: I tensorflow/core/common_runtime/gpu_fusion_pass.cc:507] ROCm Fusion is enabled.\n",
            "2023-06-09 09:52:43.928165: I tensorflow/core/common_runtime/gpu_fusion_pass.cc:507] ROCm Fusion is enabled.\n",
            "2023-06-09 09:52:43.930049: I tensorflow/core/common_runtime/gpu_fusion_pass.cc:507] ROCm Fusion is enabled.\n"
          ]
        },
        {
          "name": "stdout",
          "output_type": "stream",
          "text": [
            "16/16 [==============================] - 0s 9ms/step - loss: 0.9114\n",
            "Epoch 12/100\n",
            "16/16 [==============================] - 0s 9ms/step - loss: 0.8876\n",
            "Epoch 13/100\n",
            " 1/16 [>.............................] - ETA: 0s - loss: 0.8690"
          ]
        },
        {
          "name": "stderr",
          "output_type": "stream",
          "text": [
            "2023-06-09 09:52:44.078326: I tensorflow/core/common_runtime/gpu_fusion_pass.cc:507] ROCm Fusion is enabled.\n",
            "2023-06-09 09:52:44.082828: I tensorflow/core/common_runtime/gpu_fusion_pass.cc:507] ROCm Fusion is enabled.\n",
            "2023-06-09 09:52:44.086617: I tensorflow/core/common_runtime/gpu_fusion_pass.cc:507] ROCm Fusion is enabled.\n",
            "2023-06-09 09:52:44.090222: I tensorflow/core/common_runtime/gpu_fusion_pass.cc:507] ROCm Fusion is enabled.\n",
            "2023-06-09 09:52:44.092749: I tensorflow/core/common_runtime/gpu_fusion_pass.cc:507] ROCm Fusion is enabled.\n",
            "2023-06-09 09:52:44.094648: I tensorflow/core/common_runtime/gpu_fusion_pass.cc:507] ROCm Fusion is enabled.\n",
            "2023-06-09 09:52:44.243076: I tensorflow/core/common_runtime/gpu_fusion_pass.cc:507] ROCm Fusion is enabled.\n",
            "2023-06-09 09:52:44.247829: I tensorflow/core/common_runtime/gpu_fusion_pass.cc:507] ROCm Fusion is enabled.\n",
            "2023-06-09 09:52:44.251541: I tensorflow/core/common_runtime/gpu_fusion_pass.cc:507] ROCm Fusion is enabled.\n",
            "2023-06-09 09:52:44.255293: I tensorflow/core/common_runtime/gpu_fusion_pass.cc:507] ROCm Fusion is enabled.\n",
            "2023-06-09 09:52:44.257832: I tensorflow/core/common_runtime/gpu_fusion_pass.cc:507] ROCm Fusion is enabled.\n",
            "2023-06-09 09:52:44.259759: I tensorflow/core/common_runtime/gpu_fusion_pass.cc:507] ROCm Fusion is enabled.\n"
          ]
        },
        {
          "name": "stdout",
          "output_type": "stream",
          "text": [
            "16/16 [==============================] - 0s 9ms/step - loss: 0.8582\n",
            "Epoch 14/100\n",
            "16/16 [==============================] - 0s 9ms/step - loss: 0.8186\n",
            "Epoch 15/100\n",
            " 1/16 [>.............................] - ETA: 0s - loss: 0.7807"
          ]
        },
        {
          "name": "stderr",
          "output_type": "stream",
          "text": [
            "2023-06-09 09:52:44.405320: I tensorflow/core/common_runtime/gpu_fusion_pass.cc:507] ROCm Fusion is enabled.\n",
            "2023-06-09 09:52:44.410018: I tensorflow/core/common_runtime/gpu_fusion_pass.cc:507] ROCm Fusion is enabled.\n",
            "2023-06-09 09:52:44.413891: I tensorflow/core/common_runtime/gpu_fusion_pass.cc:507] ROCm Fusion is enabled.\n",
            "2023-06-09 09:52:44.417622: I tensorflow/core/common_runtime/gpu_fusion_pass.cc:507] ROCm Fusion is enabled.\n",
            "2023-06-09 09:52:44.420144: I tensorflow/core/common_runtime/gpu_fusion_pass.cc:507] ROCm Fusion is enabled.\n",
            "2023-06-09 09:52:44.422073: I tensorflow/core/common_runtime/gpu_fusion_pass.cc:507] ROCm Fusion is enabled.\n",
            "2023-06-09 09:52:44.568769: I tensorflow/core/common_runtime/gpu_fusion_pass.cc:507] ROCm Fusion is enabled.\n",
            "2023-06-09 09:52:44.573375: I tensorflow/core/common_runtime/gpu_fusion_pass.cc:507] ROCm Fusion is enabled.\n",
            "2023-06-09 09:52:44.577395: I tensorflow/core/common_runtime/gpu_fusion_pass.cc:507] ROCm Fusion is enabled.\n",
            "2023-06-09 09:52:44.581105: I tensorflow/core/common_runtime/gpu_fusion_pass.cc:507] ROCm Fusion is enabled.\n",
            "2023-06-09 09:52:44.583631: I tensorflow/core/common_runtime/gpu_fusion_pass.cc:507] ROCm Fusion is enabled.\n",
            "2023-06-09 09:52:44.585562: I tensorflow/core/common_runtime/gpu_fusion_pass.cc:507] ROCm Fusion is enabled.\n"
          ]
        },
        {
          "name": "stdout",
          "output_type": "stream",
          "text": [
            "16/16 [==============================] - 0s 9ms/step - loss: 0.7781\n",
            "Epoch 16/100\n",
            "16/16 [==============================] - 0s 9ms/step - loss: 0.7541\n",
            "Epoch 17/100\n",
            " 1/16 [>.............................] - ETA: 0s - loss: 0.7348"
          ]
        },
        {
          "name": "stderr",
          "output_type": "stream",
          "text": [
            "2023-06-09 09:52:44.732903: I tensorflow/core/common_runtime/gpu_fusion_pass.cc:507] ROCm Fusion is enabled.\n",
            "2023-06-09 09:52:44.737352: I tensorflow/core/common_runtime/gpu_fusion_pass.cc:507] ROCm Fusion is enabled.\n",
            "2023-06-09 09:52:44.741113: I tensorflow/core/common_runtime/gpu_fusion_pass.cc:507] ROCm Fusion is enabled.\n",
            "2023-06-09 09:52:44.744722: I tensorflow/core/common_runtime/gpu_fusion_pass.cc:507] ROCm Fusion is enabled.\n",
            "2023-06-09 09:52:44.747187: I tensorflow/core/common_runtime/gpu_fusion_pass.cc:507] ROCm Fusion is enabled.\n",
            "2023-06-09 09:52:44.749097: I tensorflow/core/common_runtime/gpu_fusion_pass.cc:507] ROCm Fusion is enabled.\n",
            "2023-06-09 09:52:44.896027: I tensorflow/core/common_runtime/gpu_fusion_pass.cc:507] ROCm Fusion is enabled.\n",
            "2023-06-09 09:52:44.900386: I tensorflow/core/common_runtime/gpu_fusion_pass.cc:507] ROCm Fusion is enabled.\n",
            "2023-06-09 09:52:44.904305: I tensorflow/core/common_runtime/gpu_fusion_pass.cc:507] ROCm Fusion is enabled.\n",
            "2023-06-09 09:52:44.908054: I tensorflow/core/common_runtime/gpu_fusion_pass.cc:507] ROCm Fusion is enabled.\n",
            "2023-06-09 09:52:44.910523: I tensorflow/core/common_runtime/gpu_fusion_pass.cc:507] ROCm Fusion is enabled.\n",
            "2023-06-09 09:52:44.912451: I tensorflow/core/common_runtime/gpu_fusion_pass.cc:507] ROCm Fusion is enabled.\n"
          ]
        },
        {
          "name": "stdout",
          "output_type": "stream",
          "text": [
            "16/16 [==============================] - 0s 9ms/step - loss: 0.7175\n",
            "Epoch 18/100\n",
            "16/16 [==============================] - 0s 9ms/step - loss: 0.8073\n",
            "Epoch 19/100\n",
            " 1/16 [>.............................] - ETA: 0s - loss: 0.7821"
          ]
        },
        {
          "name": "stderr",
          "output_type": "stream",
          "text": [
            "2023-06-09 09:52:45.063464: I tensorflow/core/common_runtime/gpu_fusion_pass.cc:507] ROCm Fusion is enabled.\n",
            "2023-06-09 09:52:45.068048: I tensorflow/core/common_runtime/gpu_fusion_pass.cc:507] ROCm Fusion is enabled.\n",
            "2023-06-09 09:52:45.071638: I tensorflow/core/common_runtime/gpu_fusion_pass.cc:507] ROCm Fusion is enabled.\n",
            "2023-06-09 09:52:45.075276: I tensorflow/core/common_runtime/gpu_fusion_pass.cc:507] ROCm Fusion is enabled.\n",
            "2023-06-09 09:52:45.077749: I tensorflow/core/common_runtime/gpu_fusion_pass.cc:507] ROCm Fusion is enabled.\n",
            "2023-06-09 09:52:45.079643: I tensorflow/core/common_runtime/gpu_fusion_pass.cc:507] ROCm Fusion is enabled.\n",
            "2023-06-09 09:52:45.226975: I tensorflow/core/common_runtime/gpu_fusion_pass.cc:507] ROCm Fusion is enabled.\n",
            "2023-06-09 09:52:45.231406: I tensorflow/core/common_runtime/gpu_fusion_pass.cc:507] ROCm Fusion is enabled.\n",
            "2023-06-09 09:52:45.235059: I tensorflow/core/common_runtime/gpu_fusion_pass.cc:507] ROCm Fusion is enabled.\n",
            "2023-06-09 09:52:45.238650: I tensorflow/core/common_runtime/gpu_fusion_pass.cc:507] ROCm Fusion is enabled.\n",
            "2023-06-09 09:52:45.241140: I tensorflow/core/common_runtime/gpu_fusion_pass.cc:507] ROCm Fusion is enabled.\n",
            "2023-06-09 09:52:45.243023: I tensorflow/core/common_runtime/gpu_fusion_pass.cc:507] ROCm Fusion is enabled.\n"
          ]
        },
        {
          "name": "stdout",
          "output_type": "stream",
          "text": [
            "16/16 [==============================] - 0s 9ms/step - loss: 0.7819\n",
            "Epoch 20/100\n",
            "16/16 [==============================] - 0s 9ms/step - loss: 0.7880\n",
            "Epoch 21/100\n",
            " 1/16 [>.............................] - ETA: 0s - loss: 0.7257"
          ]
        },
        {
          "name": "stderr",
          "output_type": "stream",
          "text": [
            "2023-06-09 09:52:45.389360: I tensorflow/core/common_runtime/gpu_fusion_pass.cc:507] ROCm Fusion is enabled.\n",
            "2023-06-09 09:52:45.394116: I tensorflow/core/common_runtime/gpu_fusion_pass.cc:507] ROCm Fusion is enabled.\n",
            "2023-06-09 09:52:45.398162: I tensorflow/core/common_runtime/gpu_fusion_pass.cc:507] ROCm Fusion is enabled.\n",
            "2023-06-09 09:52:45.401903: I tensorflow/core/common_runtime/gpu_fusion_pass.cc:507] ROCm Fusion is enabled.\n",
            "2023-06-09 09:52:45.404408: I tensorflow/core/common_runtime/gpu_fusion_pass.cc:507] ROCm Fusion is enabled.\n",
            "2023-06-09 09:52:45.406353: I tensorflow/core/common_runtime/gpu_fusion_pass.cc:507] ROCm Fusion is enabled.\n",
            "2023-06-09 09:52:45.555130: I tensorflow/core/common_runtime/gpu_fusion_pass.cc:507] ROCm Fusion is enabled.\n",
            "2023-06-09 09:52:45.560197: I tensorflow/core/common_runtime/gpu_fusion_pass.cc:507] ROCm Fusion is enabled.\n",
            "2023-06-09 09:52:45.563978: I tensorflow/core/common_runtime/gpu_fusion_pass.cc:507] ROCm Fusion is enabled.\n",
            "2023-06-09 09:52:45.567666: I tensorflow/core/common_runtime/gpu_fusion_pass.cc:507] ROCm Fusion is enabled.\n",
            "2023-06-09 09:52:45.570215: I tensorflow/core/common_runtime/gpu_fusion_pass.cc:507] ROCm Fusion is enabled.\n",
            "2023-06-09 09:52:45.572156: I tensorflow/core/common_runtime/gpu_fusion_pass.cc:507] ROCm Fusion is enabled.\n"
          ]
        },
        {
          "name": "stdout",
          "output_type": "stream",
          "text": [
            "16/16 [==============================] - 0s 9ms/step - loss: 0.6767\n",
            "Epoch 22/100\n",
            "16/16 [==============================] - 0s 9ms/step - loss: 0.6443\n",
            "Epoch 23/100\n",
            " 1/16 [>.............................] - ETA: 0s - loss: 0.6440"
          ]
        },
        {
          "name": "stderr",
          "output_type": "stream",
          "text": [
            "2023-06-09 09:52:45.718239: I tensorflow/core/common_runtime/gpu_fusion_pass.cc:507] ROCm Fusion is enabled.\n",
            "2023-06-09 09:52:45.723287: I tensorflow/core/common_runtime/gpu_fusion_pass.cc:507] ROCm Fusion is enabled.\n",
            "2023-06-09 09:52:45.727246: I tensorflow/core/common_runtime/gpu_fusion_pass.cc:507] ROCm Fusion is enabled.\n",
            "2023-06-09 09:52:45.730899: I tensorflow/core/common_runtime/gpu_fusion_pass.cc:507] ROCm Fusion is enabled.\n",
            "2023-06-09 09:52:45.733367: I tensorflow/core/common_runtime/gpu_fusion_pass.cc:507] ROCm Fusion is enabled.\n",
            "2023-06-09 09:52:45.735253: I tensorflow/core/common_runtime/gpu_fusion_pass.cc:507] ROCm Fusion is enabled.\n",
            "2023-06-09 09:52:45.880566: I tensorflow/core/common_runtime/gpu_fusion_pass.cc:507] ROCm Fusion is enabled.\n",
            "2023-06-09 09:52:45.884988: I tensorflow/core/common_runtime/gpu_fusion_pass.cc:507] ROCm Fusion is enabled.\n",
            "2023-06-09 09:52:45.889044: I tensorflow/core/common_runtime/gpu_fusion_pass.cc:507] ROCm Fusion is enabled.\n",
            "2023-06-09 09:52:45.892750: I tensorflow/core/common_runtime/gpu_fusion_pass.cc:507] ROCm Fusion is enabled.\n",
            "2023-06-09 09:52:45.895238: I tensorflow/core/common_runtime/gpu_fusion_pass.cc:507] ROCm Fusion is enabled.\n",
            "2023-06-09 09:52:45.897128: I tensorflow/core/common_runtime/gpu_fusion_pass.cc:507] ROCm Fusion is enabled.\n"
          ]
        },
        {
          "name": "stdout",
          "output_type": "stream",
          "text": [
            "16/16 [==============================] - 0s 9ms/step - loss: 0.7615\n",
            "Epoch 24/100\n",
            "16/16 [==============================] - 0s 9ms/step - loss: 1.6916\n",
            "Epoch 25/100\n",
            " 1/16 [>.............................] - ETA: 0s - loss: 2.1583"
          ]
        },
        {
          "name": "stderr",
          "output_type": "stream",
          "text": [
            "2023-06-09 09:52:46.042654: I tensorflow/core/common_runtime/gpu_fusion_pass.cc:507] ROCm Fusion is enabled.\n",
            "2023-06-09 09:52:46.047382: I tensorflow/core/common_runtime/gpu_fusion_pass.cc:507] ROCm Fusion is enabled.\n",
            "2023-06-09 09:52:46.051407: I tensorflow/core/common_runtime/gpu_fusion_pass.cc:507] ROCm Fusion is enabled.\n",
            "2023-06-09 09:52:46.055142: I tensorflow/core/common_runtime/gpu_fusion_pass.cc:507] ROCm Fusion is enabled.\n",
            "2023-06-09 09:52:46.057662: I tensorflow/core/common_runtime/gpu_fusion_pass.cc:507] ROCm Fusion is enabled.\n",
            "2023-06-09 09:52:46.059580: I tensorflow/core/common_runtime/gpu_fusion_pass.cc:507] ROCm Fusion is enabled.\n",
            "2023-06-09 09:52:46.207011: I tensorflow/core/common_runtime/gpu_fusion_pass.cc:507] ROCm Fusion is enabled.\n",
            "2023-06-09 09:52:46.211717: I tensorflow/core/common_runtime/gpu_fusion_pass.cc:507] ROCm Fusion is enabled.\n",
            "2023-06-09 09:52:46.215814: I tensorflow/core/common_runtime/gpu_fusion_pass.cc:507] ROCm Fusion is enabled.\n",
            "2023-06-09 09:52:46.219569: I tensorflow/core/common_runtime/gpu_fusion_pass.cc:507] ROCm Fusion is enabled.\n",
            "2023-06-09 09:52:46.222107: I tensorflow/core/common_runtime/gpu_fusion_pass.cc:507] ROCm Fusion is enabled.\n",
            "2023-06-09 09:52:46.224089: I tensorflow/core/common_runtime/gpu_fusion_pass.cc:507] ROCm Fusion is enabled.\n"
          ]
        },
        {
          "name": "stdout",
          "output_type": "stream",
          "text": [
            "16/16 [==============================] - 0s 9ms/step - loss: 2.3595\n",
            "Epoch 26/100\n",
            "16/16 [==============================] - 0s 9ms/step - loss: 1.6760\n",
            "Epoch 27/100\n",
            " 1/16 [>.............................] - ETA: 0s - loss: 1.5014"
          ]
        },
        {
          "name": "stderr",
          "output_type": "stream",
          "text": [
            "2023-06-09 09:52:46.368711: I tensorflow/core/common_runtime/gpu_fusion_pass.cc:507] ROCm Fusion is enabled.\n",
            "2023-06-09 09:52:46.373303: I tensorflow/core/common_runtime/gpu_fusion_pass.cc:507] ROCm Fusion is enabled.\n",
            "2023-06-09 09:52:46.377167: I tensorflow/core/common_runtime/gpu_fusion_pass.cc:507] ROCm Fusion is enabled.\n",
            "2023-06-09 09:52:46.380771: I tensorflow/core/common_runtime/gpu_fusion_pass.cc:507] ROCm Fusion is enabled.\n",
            "2023-06-09 09:52:46.383206: I tensorflow/core/common_runtime/gpu_fusion_pass.cc:507] ROCm Fusion is enabled.\n",
            "2023-06-09 09:52:46.385091: I tensorflow/core/common_runtime/gpu_fusion_pass.cc:507] ROCm Fusion is enabled.\n",
            "2023-06-09 09:52:46.532408: I tensorflow/core/common_runtime/gpu_fusion_pass.cc:507] ROCm Fusion is enabled.\n",
            "2023-06-09 09:52:46.537510: I tensorflow/core/common_runtime/gpu_fusion_pass.cc:507] ROCm Fusion is enabled.\n",
            "2023-06-09 09:52:46.541735: I tensorflow/core/common_runtime/gpu_fusion_pass.cc:507] ROCm Fusion is enabled.\n",
            "2023-06-09 09:52:46.545649: I tensorflow/core/common_runtime/gpu_fusion_pass.cc:507] ROCm Fusion is enabled.\n",
            "2023-06-09 09:52:46.548297: I tensorflow/core/common_runtime/gpu_fusion_pass.cc:507] ROCm Fusion is enabled.\n",
            "2023-06-09 09:52:46.550407: I tensorflow/core/common_runtime/gpu_fusion_pass.cc:507] ROCm Fusion is enabled.\n"
          ]
        },
        {
          "name": "stdout",
          "output_type": "stream",
          "text": [
            "16/16 [==============================] - 0s 9ms/step - loss: 1.4938\n",
            "Epoch 28/100\n",
            "16/16 [==============================] - 0s 9ms/step - loss: 1.4991\n",
            "Epoch 29/100\n",
            " 1/16 [>.............................] - ETA: 0s - loss: 1.5657"
          ]
        },
        {
          "name": "stderr",
          "output_type": "stream",
          "text": [
            "2023-06-09 09:52:46.701256: I tensorflow/core/common_runtime/gpu_fusion_pass.cc:507] ROCm Fusion is enabled.\n",
            "2023-06-09 09:52:46.706459: I tensorflow/core/common_runtime/gpu_fusion_pass.cc:507] ROCm Fusion is enabled.\n",
            "2023-06-09 09:52:46.710540: I tensorflow/core/common_runtime/gpu_fusion_pass.cc:507] ROCm Fusion is enabled.\n",
            "2023-06-09 09:52:46.714401: I tensorflow/core/common_runtime/gpu_fusion_pass.cc:507] ROCm Fusion is enabled.\n",
            "2023-06-09 09:52:46.717128: I tensorflow/core/common_runtime/gpu_fusion_pass.cc:507] ROCm Fusion is enabled.\n",
            "2023-06-09 09:52:46.719125: I tensorflow/core/common_runtime/gpu_fusion_pass.cc:507] ROCm Fusion is enabled.\n",
            "2023-06-09 09:52:46.870107: I tensorflow/core/common_runtime/gpu_fusion_pass.cc:507] ROCm Fusion is enabled.\n",
            "2023-06-09 09:52:46.874506: I tensorflow/core/common_runtime/gpu_fusion_pass.cc:507] ROCm Fusion is enabled.\n",
            "2023-06-09 09:52:46.878155: I tensorflow/core/common_runtime/gpu_fusion_pass.cc:507] ROCm Fusion is enabled.\n",
            "2023-06-09 09:52:46.881765: I tensorflow/core/common_runtime/gpu_fusion_pass.cc:507] ROCm Fusion is enabled.\n",
            "2023-06-09 09:52:46.884251: I tensorflow/core/common_runtime/gpu_fusion_pass.cc:507] ROCm Fusion is enabled.\n",
            "2023-06-09 09:52:46.886151: I tensorflow/core/common_runtime/gpu_fusion_pass.cc:507] ROCm Fusion is enabled.\n"
          ]
        },
        {
          "name": "stdout",
          "output_type": "stream",
          "text": [
            "16/16 [==============================] - 0s 9ms/step - loss: 1.5609\n",
            "Epoch 30/100\n",
            "16/16 [==============================] - 0s 9ms/step - loss: 1.5024\n",
            "Epoch 31/100\n",
            " 1/16 [>.............................] - ETA: 0s - loss: 1.4641"
          ]
        },
        {
          "name": "stderr",
          "output_type": "stream",
          "text": [
            "2023-06-09 09:52:47.033933: I tensorflow/core/common_runtime/gpu_fusion_pass.cc:507] ROCm Fusion is enabled.\n",
            "2023-06-09 09:52:47.038587: I tensorflow/core/common_runtime/gpu_fusion_pass.cc:507] ROCm Fusion is enabled.\n",
            "2023-06-09 09:52:47.042162: I tensorflow/core/common_runtime/gpu_fusion_pass.cc:507] ROCm Fusion is enabled.\n",
            "2023-06-09 09:52:47.045735: I tensorflow/core/common_runtime/gpu_fusion_pass.cc:507] ROCm Fusion is enabled.\n",
            "2023-06-09 09:52:47.048192: I tensorflow/core/common_runtime/gpu_fusion_pass.cc:507] ROCm Fusion is enabled.\n",
            "2023-06-09 09:52:47.050071: I tensorflow/core/common_runtime/gpu_fusion_pass.cc:507] ROCm Fusion is enabled.\n",
            "2023-06-09 09:52:47.194712: I tensorflow/core/common_runtime/gpu_fusion_pass.cc:507] ROCm Fusion is enabled.\n",
            "2023-06-09 09:52:47.199046: I tensorflow/core/common_runtime/gpu_fusion_pass.cc:507] ROCm Fusion is enabled.\n",
            "2023-06-09 09:52:47.202770: I tensorflow/core/common_runtime/gpu_fusion_pass.cc:507] ROCm Fusion is enabled.\n",
            "2023-06-09 09:52:47.206493: I tensorflow/core/common_runtime/gpu_fusion_pass.cc:507] ROCm Fusion is enabled.\n",
            "2023-06-09 09:52:47.208960: I tensorflow/core/common_runtime/gpu_fusion_pass.cc:507] ROCm Fusion is enabled.\n",
            "2023-06-09 09:52:47.210842: I tensorflow/core/common_runtime/gpu_fusion_pass.cc:507] ROCm Fusion is enabled.\n"
          ]
        },
        {
          "name": "stdout",
          "output_type": "stream",
          "text": [
            "16/16 [==============================] - 0s 9ms/step - loss: 1.4232\n",
            "Epoch 32/100\n",
            "16/16 [==============================] - 0s 9ms/step - loss: 1.3197\n",
            "Epoch 33/100\n",
            " 1/16 [>.............................] - ETA: 0s - loss: 1.2703"
          ]
        },
        {
          "name": "stderr",
          "output_type": "stream",
          "text": [
            "2023-06-09 09:52:47.356113: I tensorflow/core/common_runtime/gpu_fusion_pass.cc:507] ROCm Fusion is enabled.\n",
            "2023-06-09 09:52:47.360518: I tensorflow/core/common_runtime/gpu_fusion_pass.cc:507] ROCm Fusion is enabled.\n",
            "2023-06-09 09:52:47.364320: I tensorflow/core/common_runtime/gpu_fusion_pass.cc:507] ROCm Fusion is enabled.\n",
            "2023-06-09 09:52:47.367840: I tensorflow/core/common_runtime/gpu_fusion_pass.cc:507] ROCm Fusion is enabled.\n",
            "2023-06-09 09:52:47.370289: I tensorflow/core/common_runtime/gpu_fusion_pass.cc:507] ROCm Fusion is enabled.\n",
            "2023-06-09 09:52:47.372166: I tensorflow/core/common_runtime/gpu_fusion_pass.cc:507] ROCm Fusion is enabled.\n",
            "2023-06-09 09:52:47.521039: I tensorflow/core/common_runtime/gpu_fusion_pass.cc:507] ROCm Fusion is enabled.\n",
            "2023-06-09 09:52:47.525341: I tensorflow/core/common_runtime/gpu_fusion_pass.cc:507] ROCm Fusion is enabled.\n",
            "2023-06-09 09:52:47.529094: I tensorflow/core/common_runtime/gpu_fusion_pass.cc:507] ROCm Fusion is enabled.\n",
            "2023-06-09 09:52:47.532571: I tensorflow/core/common_runtime/gpu_fusion_pass.cc:507] ROCm Fusion is enabled.\n",
            "2023-06-09 09:52:47.534992: I tensorflow/core/common_runtime/gpu_fusion_pass.cc:507] ROCm Fusion is enabled.\n",
            "2023-06-09 09:52:47.536878: I tensorflow/core/common_runtime/gpu_fusion_pass.cc:507] ROCm Fusion is enabled.\n"
          ]
        },
        {
          "name": "stdout",
          "output_type": "stream",
          "text": [
            "16/16 [==============================] - 0s 9ms/step - loss: 1.2245\n",
            "Epoch 34/100\n",
            "16/16 [==============================] - 0s 9ms/step - loss: 1.0896\n",
            "Epoch 35/100\n",
            " 1/16 [>.............................] - ETA: 0s - loss: 1.0076"
          ]
        },
        {
          "name": "stderr",
          "output_type": "stream",
          "text": [
            "2023-06-09 09:52:47.682443: I tensorflow/core/common_runtime/gpu_fusion_pass.cc:507] ROCm Fusion is enabled.\n",
            "2023-06-09 09:52:47.686890: I tensorflow/core/common_runtime/gpu_fusion_pass.cc:507] ROCm Fusion is enabled.\n",
            "2023-06-09 09:52:47.690684: I tensorflow/core/common_runtime/gpu_fusion_pass.cc:507] ROCm Fusion is enabled.\n",
            "2023-06-09 09:52:47.694209: I tensorflow/core/common_runtime/gpu_fusion_pass.cc:507] ROCm Fusion is enabled.\n",
            "2023-06-09 09:52:47.696649: I tensorflow/core/common_runtime/gpu_fusion_pass.cc:507] ROCm Fusion is enabled.\n",
            "2023-06-09 09:52:47.698515: I tensorflow/core/common_runtime/gpu_fusion_pass.cc:507] ROCm Fusion is enabled.\n",
            "2023-06-09 09:52:47.842108: I tensorflow/core/common_runtime/gpu_fusion_pass.cc:507] ROCm Fusion is enabled.\n",
            "2023-06-09 09:52:47.846424: I tensorflow/core/common_runtime/gpu_fusion_pass.cc:507] ROCm Fusion is enabled.\n",
            "2023-06-09 09:52:47.850027: I tensorflow/core/common_runtime/gpu_fusion_pass.cc:507] ROCm Fusion is enabled.\n",
            "2023-06-09 09:52:47.853567: I tensorflow/core/common_runtime/gpu_fusion_pass.cc:507] ROCm Fusion is enabled.\n",
            "2023-06-09 09:52:47.855997: I tensorflow/core/common_runtime/gpu_fusion_pass.cc:507] ROCm Fusion is enabled.\n",
            "2023-06-09 09:52:47.857882: I tensorflow/core/common_runtime/gpu_fusion_pass.cc:507] ROCm Fusion is enabled.\n"
          ]
        },
        {
          "name": "stdout",
          "output_type": "stream",
          "text": [
            "16/16 [==============================] - 0s 9ms/step - loss: 0.9330\n",
            "Epoch 36/100\n",
            "16/16 [==============================] - 0s 9ms/step - loss: 0.8158\n",
            "Epoch 37/100\n",
            " 1/16 [>.............................] - ETA: 0s - loss: 0.7443"
          ]
        },
        {
          "name": "stderr",
          "output_type": "stream",
          "text": [
            "2023-06-09 09:52:48.002789: I tensorflow/core/common_runtime/gpu_fusion_pass.cc:507] ROCm Fusion is enabled.\n",
            "2023-06-09 09:52:48.007179: I tensorflow/core/common_runtime/gpu_fusion_pass.cc:507] ROCm Fusion is enabled.\n",
            "2023-06-09 09:52:48.010712: I tensorflow/core/common_runtime/gpu_fusion_pass.cc:507] ROCm Fusion is enabled.\n",
            "2023-06-09 09:52:48.014230: I tensorflow/core/common_runtime/gpu_fusion_pass.cc:507] ROCm Fusion is enabled.\n",
            "2023-06-09 09:52:48.016680: I tensorflow/core/common_runtime/gpu_fusion_pass.cc:507] ROCm Fusion is enabled.\n",
            "2023-06-09 09:52:48.018546: I tensorflow/core/common_runtime/gpu_fusion_pass.cc:507] ROCm Fusion is enabled.\n",
            "2023-06-09 09:52:48.166989: I tensorflow/core/common_runtime/gpu_fusion_pass.cc:507] ROCm Fusion is enabled.\n",
            "2023-06-09 09:52:48.171361: I tensorflow/core/common_runtime/gpu_fusion_pass.cc:507] ROCm Fusion is enabled.\n",
            "2023-06-09 09:52:48.174988: I tensorflow/core/common_runtime/gpu_fusion_pass.cc:507] ROCm Fusion is enabled.\n",
            "2023-06-09 09:52:48.178547: I tensorflow/core/common_runtime/gpu_fusion_pass.cc:507] ROCm Fusion is enabled.\n",
            "2023-06-09 09:52:48.181045: I tensorflow/core/common_runtime/gpu_fusion_pass.cc:507] ROCm Fusion is enabled.\n",
            "2023-06-09 09:52:48.182943: I tensorflow/core/common_runtime/gpu_fusion_pass.cc:507] ROCm Fusion is enabled.\n"
          ]
        },
        {
          "name": "stdout",
          "output_type": "stream",
          "text": [
            "16/16 [==============================] - 0s 9ms/step - loss: 0.6936\n",
            "Epoch 38/100\n",
            "16/16 [==============================] - 0s 9ms/step - loss: 0.6425\n",
            "Epoch 39/100\n",
            " 1/16 [>.............................] - ETA: 0s - loss: 0.6227"
          ]
        },
        {
          "name": "stderr",
          "output_type": "stream",
          "text": [
            "2023-06-09 09:52:48.328674: I tensorflow/core/common_runtime/gpu_fusion_pass.cc:507] ROCm Fusion is enabled.\n",
            "2023-06-09 09:52:48.333170: I tensorflow/core/common_runtime/gpu_fusion_pass.cc:507] ROCm Fusion is enabled.\n",
            "2023-06-09 09:52:48.337038: I tensorflow/core/common_runtime/gpu_fusion_pass.cc:507] ROCm Fusion is enabled.\n",
            "2023-06-09 09:52:48.340599: I tensorflow/core/common_runtime/gpu_fusion_pass.cc:507] ROCm Fusion is enabled.\n",
            "2023-06-09 09:52:48.343066: I tensorflow/core/common_runtime/gpu_fusion_pass.cc:507] ROCm Fusion is enabled.\n",
            "2023-06-09 09:52:48.344957: I tensorflow/core/common_runtime/gpu_fusion_pass.cc:507] ROCm Fusion is enabled.\n",
            "2023-06-09 09:52:48.490322: I tensorflow/core/common_runtime/gpu_fusion_pass.cc:507] ROCm Fusion is enabled.\n",
            "2023-06-09 09:52:48.494717: I tensorflow/core/common_runtime/gpu_fusion_pass.cc:507] ROCm Fusion is enabled.\n",
            "2023-06-09 09:52:48.498589: I tensorflow/core/common_runtime/gpu_fusion_pass.cc:507] ROCm Fusion is enabled.\n",
            "2023-06-09 09:52:48.502159: I tensorflow/core/common_runtime/gpu_fusion_pass.cc:507] ROCm Fusion is enabled.\n",
            "2023-06-09 09:52:48.504616: I tensorflow/core/common_runtime/gpu_fusion_pass.cc:507] ROCm Fusion is enabled.\n",
            "2023-06-09 09:52:48.506504: I tensorflow/core/common_runtime/gpu_fusion_pass.cc:507] ROCm Fusion is enabled.\n"
          ]
        },
        {
          "name": "stdout",
          "output_type": "stream",
          "text": [
            "16/16 [==============================] - 0s 9ms/step - loss: 0.6102\n",
            "Epoch 40/100\n",
            "16/16 [==============================] - 0s 9ms/step - loss: 0.5941\n",
            "Epoch 41/100\n",
            " 1/16 [>.............................] - ETA: 0s - loss: 0.5874"
          ]
        },
        {
          "name": "stderr",
          "output_type": "stream",
          "text": [
            "2023-06-09 09:52:48.649869: I tensorflow/core/common_runtime/gpu_fusion_pass.cc:507] ROCm Fusion is enabled.\n",
            "2023-06-09 09:52:48.654283: I tensorflow/core/common_runtime/gpu_fusion_pass.cc:507] ROCm Fusion is enabled.\n",
            "2023-06-09 09:52:48.657818: I tensorflow/core/common_runtime/gpu_fusion_pass.cc:507] ROCm Fusion is enabled.\n",
            "2023-06-09 09:52:48.661345: I tensorflow/core/common_runtime/gpu_fusion_pass.cc:507] ROCm Fusion is enabled.\n",
            "2023-06-09 09:52:48.663814: I tensorflow/core/common_runtime/gpu_fusion_pass.cc:507] ROCm Fusion is enabled.\n",
            "2023-06-09 09:52:48.665692: I tensorflow/core/common_runtime/gpu_fusion_pass.cc:507] ROCm Fusion is enabled.\n",
            "2023-06-09 09:52:48.809073: I tensorflow/core/common_runtime/gpu_fusion_pass.cc:507] ROCm Fusion is enabled.\n",
            "2023-06-09 09:52:48.813419: I tensorflow/core/common_runtime/gpu_fusion_pass.cc:507] ROCm Fusion is enabled.\n",
            "2023-06-09 09:52:48.816995: I tensorflow/core/common_runtime/gpu_fusion_pass.cc:507] ROCm Fusion is enabled.\n",
            "2023-06-09 09:52:48.820503: I tensorflow/core/common_runtime/gpu_fusion_pass.cc:507] ROCm Fusion is enabled.\n",
            "2023-06-09 09:52:48.822906: I tensorflow/core/common_runtime/gpu_fusion_pass.cc:507] ROCm Fusion is enabled.\n",
            "2023-06-09 09:52:48.824770: I tensorflow/core/common_runtime/gpu_fusion_pass.cc:507] ROCm Fusion is enabled.\n"
          ]
        },
        {
          "name": "stdout",
          "output_type": "stream",
          "text": [
            "16/16 [==============================] - 0s 9ms/step - loss: 0.5777\n",
            "Epoch 42/100\n",
            "16/16 [==============================] - 0s 9ms/step - loss: 0.5714\n",
            "Epoch 43/100\n",
            " 1/16 [>.............................] - ETA: 0s - loss: 0.5694"
          ]
        },
        {
          "name": "stderr",
          "output_type": "stream",
          "text": [
            "2023-06-09 09:52:48.967061: I tensorflow/core/common_runtime/gpu_fusion_pass.cc:507] ROCm Fusion is enabled.\n",
            "2023-06-09 09:52:48.971471: I tensorflow/core/common_runtime/gpu_fusion_pass.cc:507] ROCm Fusion is enabled.\n",
            "2023-06-09 09:52:48.975099: I tensorflow/core/common_runtime/gpu_fusion_pass.cc:507] ROCm Fusion is enabled.\n",
            "2023-06-09 09:52:48.978599: I tensorflow/core/common_runtime/gpu_fusion_pass.cc:507] ROCm Fusion is enabled.\n",
            "2023-06-09 09:52:48.981021: I tensorflow/core/common_runtime/gpu_fusion_pass.cc:507] ROCm Fusion is enabled.\n",
            "2023-06-09 09:52:48.982900: I tensorflow/core/common_runtime/gpu_fusion_pass.cc:507] ROCm Fusion is enabled.\n",
            "2023-06-09 09:52:49.127359: I tensorflow/core/common_runtime/gpu_fusion_pass.cc:507] ROCm Fusion is enabled.\n",
            "2023-06-09 09:52:49.131683: I tensorflow/core/common_runtime/gpu_fusion_pass.cc:507] ROCm Fusion is enabled.\n",
            "2023-06-09 09:52:49.135257: I tensorflow/core/common_runtime/gpu_fusion_pass.cc:507] ROCm Fusion is enabled.\n",
            "2023-06-09 09:52:49.138799: I tensorflow/core/common_runtime/gpu_fusion_pass.cc:507] ROCm Fusion is enabled.\n",
            "2023-06-09 09:52:49.141227: I tensorflow/core/common_runtime/gpu_fusion_pass.cc:507] ROCm Fusion is enabled.\n",
            "2023-06-09 09:52:49.143103: I tensorflow/core/common_runtime/gpu_fusion_pass.cc:507] ROCm Fusion is enabled.\n"
          ]
        },
        {
          "name": "stdout",
          "output_type": "stream",
          "text": [
            "16/16 [==============================] - 0s 9ms/step - loss: 0.5679\n",
            "Epoch 44/100\n",
            "16/16 [==============================] - 0s 9ms/step - loss: 0.5657\n",
            "Epoch 45/100\n",
            " 1/16 [>.............................] - ETA: 0s - loss: 0.5643"
          ]
        },
        {
          "name": "stderr",
          "output_type": "stream",
          "text": [
            "2023-06-09 09:52:49.284858: I tensorflow/core/common_runtime/gpu_fusion_pass.cc:507] ROCm Fusion is enabled.\n",
            "2023-06-09 09:52:49.289312: I tensorflow/core/common_runtime/gpu_fusion_pass.cc:507] ROCm Fusion is enabled.\n",
            "2023-06-09 09:52:49.292935: I tensorflow/core/common_runtime/gpu_fusion_pass.cc:507] ROCm Fusion is enabled.\n",
            "2023-06-09 09:52:49.296414: I tensorflow/core/common_runtime/gpu_fusion_pass.cc:507] ROCm Fusion is enabled.\n",
            "2023-06-09 09:52:49.298836: I tensorflow/core/common_runtime/gpu_fusion_pass.cc:507] ROCm Fusion is enabled.\n",
            "2023-06-09 09:52:49.300721: I tensorflow/core/common_runtime/gpu_fusion_pass.cc:507] ROCm Fusion is enabled.\n",
            "2023-06-09 09:52:49.446028: I tensorflow/core/common_runtime/gpu_fusion_pass.cc:507] ROCm Fusion is enabled.\n",
            "2023-06-09 09:52:49.450441: I tensorflow/core/common_runtime/gpu_fusion_pass.cc:507] ROCm Fusion is enabled.\n",
            "2023-06-09 09:52:49.454112: I tensorflow/core/common_runtime/gpu_fusion_pass.cc:507] ROCm Fusion is enabled.\n",
            "2023-06-09 09:52:49.457765: I tensorflow/core/common_runtime/gpu_fusion_pass.cc:507] ROCm Fusion is enabled.\n",
            "2023-06-09 09:52:49.460245: I tensorflow/core/common_runtime/gpu_fusion_pass.cc:507] ROCm Fusion is enabled.\n",
            "2023-06-09 09:52:49.462141: I tensorflow/core/common_runtime/gpu_fusion_pass.cc:507] ROCm Fusion is enabled.\n"
          ]
        },
        {
          "name": "stdout",
          "output_type": "stream",
          "text": [
            "16/16 [==============================] - 0s 8ms/step - loss: 0.5632\n",
            "Epoch 46/100\n",
            "16/16 [==============================] - 0s 9ms/step - loss: 0.5545\n",
            "Epoch 47/100\n",
            " 1/16 [>.............................] - ETA: 0s - loss: 0.5537"
          ]
        },
        {
          "name": "stderr",
          "output_type": "stream",
          "text": [
            "2023-06-09 09:52:49.603132: I tensorflow/core/common_runtime/gpu_fusion_pass.cc:507] ROCm Fusion is enabled.\n",
            "2023-06-09 09:52:49.607619: I tensorflow/core/common_runtime/gpu_fusion_pass.cc:507] ROCm Fusion is enabled.\n",
            "2023-06-09 09:52:49.611185: I tensorflow/core/common_runtime/gpu_fusion_pass.cc:507] ROCm Fusion is enabled.\n",
            "2023-06-09 09:52:49.614743: I tensorflow/core/common_runtime/gpu_fusion_pass.cc:507] ROCm Fusion is enabled.\n",
            "2023-06-09 09:52:49.617196: I tensorflow/core/common_runtime/gpu_fusion_pass.cc:507] ROCm Fusion is enabled.\n",
            "2023-06-09 09:52:49.619084: I tensorflow/core/common_runtime/gpu_fusion_pass.cc:507] ROCm Fusion is enabled.\n",
            "2023-06-09 09:52:49.773264: I tensorflow/core/common_runtime/gpu_fusion_pass.cc:507] ROCm Fusion is enabled.\n",
            "2023-06-09 09:52:49.777795: I tensorflow/core/common_runtime/gpu_fusion_pass.cc:507] ROCm Fusion is enabled.\n",
            "2023-06-09 09:52:49.781470: I tensorflow/core/common_runtime/gpu_fusion_pass.cc:507] ROCm Fusion is enabled.\n",
            "2023-06-09 09:52:49.785079: I tensorflow/core/common_runtime/gpu_fusion_pass.cc:507] ROCm Fusion is enabled.\n",
            "2023-06-09 09:52:49.787527: I tensorflow/core/common_runtime/gpu_fusion_pass.cc:507] ROCm Fusion is enabled.\n",
            "2023-06-09 09:52:49.789414: I tensorflow/core/common_runtime/gpu_fusion_pass.cc:507] ROCm Fusion is enabled.\n"
          ]
        },
        {
          "name": "stdout",
          "output_type": "stream",
          "text": [
            "16/16 [==============================] - 0s 8ms/step - loss: 0.5494\n",
            "Epoch 48/100\n",
            "16/16 [==============================] - 0s 9ms/step - loss: 0.5478\n",
            "Epoch 49/100\n",
            " 1/16 [>.............................] - ETA: 0s - loss: 0.5475"
          ]
        },
        {
          "name": "stderr",
          "output_type": "stream",
          "text": [
            "2023-06-09 09:52:49.930937: I tensorflow/core/common_runtime/gpu_fusion_pass.cc:507] ROCm Fusion is enabled.\n",
            "2023-06-09 09:52:49.935556: I tensorflow/core/common_runtime/gpu_fusion_pass.cc:507] ROCm Fusion is enabled.\n",
            "2023-06-09 09:52:49.939106: I tensorflow/core/common_runtime/gpu_fusion_pass.cc:507] ROCm Fusion is enabled.\n",
            "2023-06-09 09:52:49.942646: I tensorflow/core/common_runtime/gpu_fusion_pass.cc:507] ROCm Fusion is enabled.\n",
            "2023-06-09 09:52:49.945075: I tensorflow/core/common_runtime/gpu_fusion_pass.cc:507] ROCm Fusion is enabled.\n",
            "2023-06-09 09:52:49.946983: I tensorflow/core/common_runtime/gpu_fusion_pass.cc:507] ROCm Fusion is enabled.\n",
            "2023-06-09 09:52:50.089796: I tensorflow/core/common_runtime/gpu_fusion_pass.cc:507] ROCm Fusion is enabled.\n",
            "2023-06-09 09:52:50.094156: I tensorflow/core/common_runtime/gpu_fusion_pass.cc:507] ROCm Fusion is enabled.\n",
            "2023-06-09 09:52:50.097775: I tensorflow/core/common_runtime/gpu_fusion_pass.cc:507] ROCm Fusion is enabled.\n",
            "2023-06-09 09:52:50.101328: I tensorflow/core/common_runtime/gpu_fusion_pass.cc:507] ROCm Fusion is enabled.\n",
            "2023-06-09 09:52:50.103762: I tensorflow/core/common_runtime/gpu_fusion_pass.cc:507] ROCm Fusion is enabled.\n",
            "2023-06-09 09:52:50.105638: I tensorflow/core/common_runtime/gpu_fusion_pass.cc:507] ROCm Fusion is enabled.\n"
          ]
        },
        {
          "name": "stdout",
          "output_type": "stream",
          "text": [
            "16/16 [==============================] - 0s 9ms/step - loss: 0.5472\n",
            "Epoch 50/100\n",
            "16/16 [==============================] - 0s 9ms/step - loss: 0.5471\n",
            "Epoch 51/100\n",
            " 1/16 [>.............................] - ETA: 0s - loss: 0.5464"
          ]
        },
        {
          "name": "stderr",
          "output_type": "stream",
          "text": [
            "2023-06-09 09:52:50.247655: I tensorflow/core/common_runtime/gpu_fusion_pass.cc:507] ROCm Fusion is enabled.\n",
            "2023-06-09 09:52:50.252051: I tensorflow/core/common_runtime/gpu_fusion_pass.cc:507] ROCm Fusion is enabled.\n",
            "2023-06-09 09:52:50.255558: I tensorflow/core/common_runtime/gpu_fusion_pass.cc:507] ROCm Fusion is enabled.\n",
            "2023-06-09 09:52:50.259078: I tensorflow/core/common_runtime/gpu_fusion_pass.cc:507] ROCm Fusion is enabled.\n",
            "2023-06-09 09:52:50.261496: I tensorflow/core/common_runtime/gpu_fusion_pass.cc:507] ROCm Fusion is enabled.\n",
            "2023-06-09 09:52:50.263388: I tensorflow/core/common_runtime/gpu_fusion_pass.cc:507] ROCm Fusion is enabled.\n",
            "2023-06-09 09:52:50.411320: I tensorflow/core/common_runtime/gpu_fusion_pass.cc:507] ROCm Fusion is enabled.\n",
            "2023-06-09 09:52:50.416253: I tensorflow/core/common_runtime/gpu_fusion_pass.cc:507] ROCm Fusion is enabled.\n",
            "2023-06-09 09:52:50.420626: I tensorflow/core/common_runtime/gpu_fusion_pass.cc:507] ROCm Fusion is enabled.\n",
            "2023-06-09 09:52:50.424425: I tensorflow/core/common_runtime/gpu_fusion_pass.cc:507] ROCm Fusion is enabled.\n",
            "2023-06-09 09:52:50.426972: I tensorflow/core/common_runtime/gpu_fusion_pass.cc:507] ROCm Fusion is enabled.\n",
            "2023-06-09 09:52:50.428858: I tensorflow/core/common_runtime/gpu_fusion_pass.cc:507] ROCm Fusion is enabled.\n"
          ]
        },
        {
          "name": "stdout",
          "output_type": "stream",
          "text": [
            "16/16 [==============================] - 0s 9ms/step - loss: 0.5469\n",
            "Epoch 52/100\n",
            "16/16 [==============================] - 0s 9ms/step - loss: 0.5467\n",
            "Epoch 53/100\n",
            " 1/16 [>.............................] - ETA: 0s - loss: 0.5470"
          ]
        },
        {
          "name": "stderr",
          "output_type": "stream",
          "text": [
            "2023-06-09 09:52:50.577837: I tensorflow/core/common_runtime/gpu_fusion_pass.cc:507] ROCm Fusion is enabled.\n",
            "2023-06-09 09:52:50.582886: I tensorflow/core/common_runtime/gpu_fusion_pass.cc:507] ROCm Fusion is enabled.\n",
            "2023-06-09 09:52:50.586686: I tensorflow/core/common_runtime/gpu_fusion_pass.cc:507] ROCm Fusion is enabled.\n",
            "2023-06-09 09:52:50.590388: I tensorflow/core/common_runtime/gpu_fusion_pass.cc:507] ROCm Fusion is enabled.\n",
            "2023-06-09 09:52:50.592843: I tensorflow/core/common_runtime/gpu_fusion_pass.cc:507] ROCm Fusion is enabled.\n",
            "2023-06-09 09:52:50.594735: I tensorflow/core/common_runtime/gpu_fusion_pass.cc:507] ROCm Fusion is enabled.\n",
            "2023-06-09 09:52:50.745283: I tensorflow/core/common_runtime/gpu_fusion_pass.cc:507] ROCm Fusion is enabled.\n",
            "2023-06-09 09:52:50.750065: I tensorflow/core/common_runtime/gpu_fusion_pass.cc:507] ROCm Fusion is enabled.\n",
            "2023-06-09 09:52:50.753914: I tensorflow/core/common_runtime/gpu_fusion_pass.cc:507] ROCm Fusion is enabled.\n",
            "2023-06-09 09:52:50.757682: I tensorflow/core/common_runtime/gpu_fusion_pass.cc:507] ROCm Fusion is enabled.\n",
            "2023-06-09 09:52:50.760224: I tensorflow/core/common_runtime/gpu_fusion_pass.cc:507] ROCm Fusion is enabled.\n",
            "2023-06-09 09:52:50.762136: I tensorflow/core/common_runtime/gpu_fusion_pass.cc:507] ROCm Fusion is enabled.\n"
          ]
        },
        {
          "name": "stdout",
          "output_type": "stream",
          "text": [
            "16/16 [==============================] - 0s 9ms/step - loss: 0.5468\n",
            "Epoch 54/100\n",
            "16/16 [==============================] - 0s 9ms/step - loss: 0.5465\n",
            "Epoch 55/100\n",
            " 1/16 [>.............................] - ETA: 0s - loss: 0.5464"
          ]
        },
        {
          "name": "stderr",
          "output_type": "stream",
          "text": [
            "2023-06-09 09:52:50.910530: I tensorflow/core/common_runtime/gpu_fusion_pass.cc:507] ROCm Fusion is enabled.\n",
            "2023-06-09 09:52:50.915268: I tensorflow/core/common_runtime/gpu_fusion_pass.cc:507] ROCm Fusion is enabled.\n",
            "2023-06-09 09:52:50.918961: I tensorflow/core/common_runtime/gpu_fusion_pass.cc:507] ROCm Fusion is enabled.\n",
            "2023-06-09 09:52:50.922633: I tensorflow/core/common_runtime/gpu_fusion_pass.cc:507] ROCm Fusion is enabled.\n",
            "2023-06-09 09:52:50.925120: I tensorflow/core/common_runtime/gpu_fusion_pass.cc:507] ROCm Fusion is enabled.\n",
            "2023-06-09 09:52:50.927013: I tensorflow/core/common_runtime/gpu_fusion_pass.cc:507] ROCm Fusion is enabled.\n",
            "2023-06-09 09:52:51.073924: I tensorflow/core/common_runtime/gpu_fusion_pass.cc:507] ROCm Fusion is enabled.\n",
            "2023-06-09 09:52:51.078603: I tensorflow/core/common_runtime/gpu_fusion_pass.cc:507] ROCm Fusion is enabled.\n",
            "2023-06-09 09:52:51.082998: I tensorflow/core/common_runtime/gpu_fusion_pass.cc:507] ROCm Fusion is enabled.\n",
            "2023-06-09 09:52:51.086792: I tensorflow/core/common_runtime/gpu_fusion_pass.cc:507] ROCm Fusion is enabled.\n",
            "2023-06-09 09:52:51.089368: I tensorflow/core/common_runtime/gpu_fusion_pass.cc:507] ROCm Fusion is enabled.\n",
            "2023-06-09 09:52:51.091314: I tensorflow/core/common_runtime/gpu_fusion_pass.cc:507] ROCm Fusion is enabled.\n"
          ]
        },
        {
          "name": "stdout",
          "output_type": "stream",
          "text": [
            "16/16 [==============================] - 0s 9ms/step - loss: 0.5463\n",
            "Epoch 56/100\n",
            "16/16 [==============================] - 0s 9ms/step - loss: 0.5464\n",
            "Epoch 57/100\n",
            " 1/16 [>.............................] - ETA: 0s - loss: 0.5460"
          ]
        },
        {
          "name": "stderr",
          "output_type": "stream",
          "text": [
            "2023-06-09 09:52:51.241944: I tensorflow/core/common_runtime/gpu_fusion_pass.cc:507] ROCm Fusion is enabled.\n",
            "2023-06-09 09:52:51.247053: I tensorflow/core/common_runtime/gpu_fusion_pass.cc:507] ROCm Fusion is enabled.\n",
            "2023-06-09 09:52:51.251145: I tensorflow/core/common_runtime/gpu_fusion_pass.cc:507] ROCm Fusion is enabled.\n",
            "2023-06-09 09:52:51.254918: I tensorflow/core/common_runtime/gpu_fusion_pass.cc:507] ROCm Fusion is enabled.\n",
            "2023-06-09 09:52:51.257517: I tensorflow/core/common_runtime/gpu_fusion_pass.cc:507] ROCm Fusion is enabled.\n",
            "2023-06-09 09:52:51.259423: I tensorflow/core/common_runtime/gpu_fusion_pass.cc:507] ROCm Fusion is enabled.\n",
            "2023-06-09 09:52:51.408069: I tensorflow/core/common_runtime/gpu_fusion_pass.cc:507] ROCm Fusion is enabled.\n",
            "2023-06-09 09:52:51.413236: I tensorflow/core/common_runtime/gpu_fusion_pass.cc:507] ROCm Fusion is enabled.\n",
            "2023-06-09 09:52:51.417198: I tensorflow/core/common_runtime/gpu_fusion_pass.cc:507] ROCm Fusion is enabled.\n",
            "2023-06-09 09:52:51.420969: I tensorflow/core/common_runtime/gpu_fusion_pass.cc:507] ROCm Fusion is enabled.\n",
            "2023-06-09 09:52:51.423433: I tensorflow/core/common_runtime/gpu_fusion_pass.cc:507] ROCm Fusion is enabled.\n",
            "2023-06-09 09:52:51.425601: I tensorflow/core/common_runtime/gpu_fusion_pass.cc:507] ROCm Fusion is enabled.\n"
          ]
        },
        {
          "name": "stdout",
          "output_type": "stream",
          "text": [
            "16/16 [==============================] - 0s 9ms/step - loss: 0.5461\n",
            "Epoch 58/100\n",
            "16/16 [==============================] - 0s 9ms/step - loss: 0.5460\n",
            "Epoch 59/100\n",
            " 1/16 [>.............................] - ETA: 0s - loss: 0.5450"
          ]
        },
        {
          "name": "stderr",
          "output_type": "stream",
          "text": [
            "2023-06-09 09:52:51.573699: I tensorflow/core/common_runtime/gpu_fusion_pass.cc:507] ROCm Fusion is enabled.\n",
            "2023-06-09 09:52:51.578847: I tensorflow/core/common_runtime/gpu_fusion_pass.cc:507] ROCm Fusion is enabled.\n",
            "2023-06-09 09:52:51.582911: I tensorflow/core/common_runtime/gpu_fusion_pass.cc:507] ROCm Fusion is enabled.\n",
            "2023-06-09 09:52:51.586647: I tensorflow/core/common_runtime/gpu_fusion_pass.cc:507] ROCm Fusion is enabled.\n",
            "2023-06-09 09:52:51.589100: I tensorflow/core/common_runtime/gpu_fusion_pass.cc:507] ROCm Fusion is enabled.\n",
            "2023-06-09 09:52:51.590988: I tensorflow/core/common_runtime/gpu_fusion_pass.cc:507] ROCm Fusion is enabled.\n",
            "2023-06-09 09:52:51.740013: I tensorflow/core/common_runtime/gpu_fusion_pass.cc:507] ROCm Fusion is enabled.\n",
            "2023-06-09 09:52:51.744961: I tensorflow/core/common_runtime/gpu_fusion_pass.cc:507] ROCm Fusion is enabled.\n",
            "2023-06-09 09:52:51.748757: I tensorflow/core/common_runtime/gpu_fusion_pass.cc:507] ROCm Fusion is enabled.\n",
            "2023-06-09 09:52:51.752425: I tensorflow/core/common_runtime/gpu_fusion_pass.cc:507] ROCm Fusion is enabled.\n",
            "2023-06-09 09:52:51.754879: I tensorflow/core/common_runtime/gpu_fusion_pass.cc:507] ROCm Fusion is enabled.\n",
            "2023-06-09 09:52:51.756866: I tensorflow/core/common_runtime/gpu_fusion_pass.cc:507] ROCm Fusion is enabled.\n"
          ]
        },
        {
          "name": "stdout",
          "output_type": "stream",
          "text": [
            "16/16 [==============================] - 0s 9ms/step - loss: 0.5364\n",
            "Epoch 60/100\n",
            "16/16 [==============================] - 0s 9ms/step - loss: 0.5337\n",
            "Epoch 61/100\n",
            " 1/16 [>.............................] - ETA: 0s - loss: 0.5339"
          ]
        },
        {
          "name": "stderr",
          "output_type": "stream",
          "text": [
            "2023-06-09 09:52:51.904720: I tensorflow/core/common_runtime/gpu_fusion_pass.cc:507] ROCm Fusion is enabled.\n",
            "2023-06-09 09:52:51.909375: I tensorflow/core/common_runtime/gpu_fusion_pass.cc:507] ROCm Fusion is enabled.\n",
            "2023-06-09 09:52:51.913247: I tensorflow/core/common_runtime/gpu_fusion_pass.cc:507] ROCm Fusion is enabled.\n",
            "2023-06-09 09:52:51.917136: I tensorflow/core/common_runtime/gpu_fusion_pass.cc:507] ROCm Fusion is enabled.\n",
            "2023-06-09 09:52:51.919630: I tensorflow/core/common_runtime/gpu_fusion_pass.cc:507] ROCm Fusion is enabled.\n",
            "2023-06-09 09:52:51.921541: I tensorflow/core/common_runtime/gpu_fusion_pass.cc:507] ROCm Fusion is enabled.\n",
            "2023-06-09 09:52:52.073282: I tensorflow/core/common_runtime/gpu_fusion_pass.cc:507] ROCm Fusion is enabled.\n",
            "2023-06-09 09:52:52.078159: I tensorflow/core/common_runtime/gpu_fusion_pass.cc:507] ROCm Fusion is enabled.\n",
            "2023-06-09 09:52:52.082116: I tensorflow/core/common_runtime/gpu_fusion_pass.cc:507] ROCm Fusion is enabled.\n",
            "2023-06-09 09:52:52.085983: I tensorflow/core/common_runtime/gpu_fusion_pass.cc:507] ROCm Fusion is enabled.\n",
            "2023-06-09 09:52:52.088566: I tensorflow/core/common_runtime/gpu_fusion_pass.cc:507] ROCm Fusion is enabled.\n",
            "2023-06-09 09:52:52.090520: I tensorflow/core/common_runtime/gpu_fusion_pass.cc:507] ROCm Fusion is enabled.\n"
          ]
        },
        {
          "name": "stdout",
          "output_type": "stream",
          "text": [
            "16/16 [==============================] - 0s 9ms/step - loss: 0.5332\n",
            "Epoch 62/100\n",
            "16/16 [==============================] - 0s 9ms/step - loss: 0.5331\n",
            "Epoch 63/100\n",
            " 1/16 [>.............................] - ETA: 0s - loss: 0.5322"
          ]
        },
        {
          "name": "stderr",
          "output_type": "stream",
          "text": [
            "2023-06-09 09:52:52.239124: I tensorflow/core/common_runtime/gpu_fusion_pass.cc:507] ROCm Fusion is enabled.\n",
            "2023-06-09 09:52:52.243725: I tensorflow/core/common_runtime/gpu_fusion_pass.cc:507] ROCm Fusion is enabled.\n",
            "2023-06-09 09:52:52.247544: I tensorflow/core/common_runtime/gpu_fusion_pass.cc:507] ROCm Fusion is enabled.\n",
            "2023-06-09 09:52:52.251285: I tensorflow/core/common_runtime/gpu_fusion_pass.cc:507] ROCm Fusion is enabled.\n",
            "2023-06-09 09:52:52.253827: I tensorflow/core/common_runtime/gpu_fusion_pass.cc:507] ROCm Fusion is enabled.\n",
            "2023-06-09 09:52:52.255754: I tensorflow/core/common_runtime/gpu_fusion_pass.cc:507] ROCm Fusion is enabled.\n",
            "2023-06-09 09:52:52.406972: I tensorflow/core/common_runtime/gpu_fusion_pass.cc:507] ROCm Fusion is enabled.\n",
            "2023-06-09 09:52:52.411604: I tensorflow/core/common_runtime/gpu_fusion_pass.cc:507] ROCm Fusion is enabled.\n",
            "2023-06-09 09:52:52.415444: I tensorflow/core/common_runtime/gpu_fusion_pass.cc:507] ROCm Fusion is enabled.\n",
            "2023-06-09 09:52:52.419047: I tensorflow/core/common_runtime/gpu_fusion_pass.cc:507] ROCm Fusion is enabled.\n",
            "2023-06-09 09:52:52.421489: I tensorflow/core/common_runtime/gpu_fusion_pass.cc:507] ROCm Fusion is enabled.\n",
            "2023-06-09 09:52:52.423354: I tensorflow/core/common_runtime/gpu_fusion_pass.cc:507] ROCm Fusion is enabled.\n"
          ]
        },
        {
          "name": "stdout",
          "output_type": "stream",
          "text": [
            "16/16 [==============================] - 0s 9ms/step - loss: 0.5328\n",
            "Epoch 64/100\n",
            "16/16 [==============================] - 0s 9ms/step - loss: 0.5327\n",
            "Epoch 65/100\n",
            " 1/16 [>.............................] - ETA: 0s - loss: 0.5326"
          ]
        },
        {
          "name": "stderr",
          "output_type": "stream",
          "text": [
            "2023-06-09 09:52:52.573424: I tensorflow/core/common_runtime/gpu_fusion_pass.cc:507] ROCm Fusion is enabled.\n",
            "2023-06-09 09:52:52.577950: I tensorflow/core/common_runtime/gpu_fusion_pass.cc:507] ROCm Fusion is enabled.\n",
            "2023-06-09 09:52:52.581626: I tensorflow/core/common_runtime/gpu_fusion_pass.cc:507] ROCm Fusion is enabled.\n",
            "2023-06-09 09:52:52.585275: I tensorflow/core/common_runtime/gpu_fusion_pass.cc:507] ROCm Fusion is enabled.\n",
            "2023-06-09 09:52:52.587693: I tensorflow/core/common_runtime/gpu_fusion_pass.cc:507] ROCm Fusion is enabled.\n",
            "2023-06-09 09:52:52.589557: I tensorflow/core/common_runtime/gpu_fusion_pass.cc:507] ROCm Fusion is enabled.\n",
            "2023-06-09 09:52:52.738456: I tensorflow/core/common_runtime/gpu_fusion_pass.cc:507] ROCm Fusion is enabled.\n",
            "2023-06-09 09:52:52.743315: I tensorflow/core/common_runtime/gpu_fusion_pass.cc:507] ROCm Fusion is enabled.\n",
            "2023-06-09 09:52:52.747254: I tensorflow/core/common_runtime/gpu_fusion_pass.cc:507] ROCm Fusion is enabled.\n",
            "2023-06-09 09:52:52.751018: I tensorflow/core/common_runtime/gpu_fusion_pass.cc:507] ROCm Fusion is enabled.\n",
            "2023-06-09 09:52:52.753476: I tensorflow/core/common_runtime/gpu_fusion_pass.cc:507] ROCm Fusion is enabled.\n",
            "2023-06-09 09:52:52.755362: I tensorflow/core/common_runtime/gpu_fusion_pass.cc:507] ROCm Fusion is enabled.\n"
          ]
        },
        {
          "name": "stdout",
          "output_type": "stream",
          "text": [
            "16/16 [==============================] - 0s 9ms/step - loss: 0.5327\n",
            "Epoch 66/100\n",
            "16/16 [==============================] - 0s 9ms/step - loss: 0.5326\n",
            "Epoch 67/100\n",
            " 1/16 [>.............................] - ETA: 0s - loss: 0.5328"
          ]
        },
        {
          "name": "stderr",
          "output_type": "stream",
          "text": [
            "2023-06-09 09:52:52.902413: I tensorflow/core/common_runtime/gpu_fusion_pass.cc:507] ROCm Fusion is enabled.\n",
            "2023-06-09 09:52:52.906864: I tensorflow/core/common_runtime/gpu_fusion_pass.cc:507] ROCm Fusion is enabled.\n",
            "2023-06-09 09:52:52.910665: I tensorflow/core/common_runtime/gpu_fusion_pass.cc:507] ROCm Fusion is enabled.\n",
            "2023-06-09 09:52:52.914211: I tensorflow/core/common_runtime/gpu_fusion_pass.cc:507] ROCm Fusion is enabled.\n",
            "2023-06-09 09:52:52.916626: I tensorflow/core/common_runtime/gpu_fusion_pass.cc:507] ROCm Fusion is enabled.\n",
            "2023-06-09 09:52:52.918492: I tensorflow/core/common_runtime/gpu_fusion_pass.cc:507] ROCm Fusion is enabled.\n",
            "2023-06-09 09:52:53.068346: I tensorflow/core/common_runtime/gpu_fusion_pass.cc:507] ROCm Fusion is enabled.\n",
            "2023-06-09 09:52:53.072969: I tensorflow/core/common_runtime/gpu_fusion_pass.cc:507] ROCm Fusion is enabled.\n",
            "2023-06-09 09:52:53.076639: I tensorflow/core/common_runtime/gpu_fusion_pass.cc:507] ROCm Fusion is enabled.\n",
            "2023-06-09 09:52:53.080194: I tensorflow/core/common_runtime/gpu_fusion_pass.cc:507] ROCm Fusion is enabled.\n",
            "2023-06-09 09:52:53.082631: I tensorflow/core/common_runtime/gpu_fusion_pass.cc:507] ROCm Fusion is enabled.\n",
            "2023-06-09 09:52:53.084495: I tensorflow/core/common_runtime/gpu_fusion_pass.cc:507] ROCm Fusion is enabled.\n"
          ]
        },
        {
          "name": "stdout",
          "output_type": "stream",
          "text": [
            "16/16 [==============================] - 0s 9ms/step - loss: 0.5325\n",
            "Epoch 68/100\n",
            "16/16 [==============================] - 0s 9ms/step - loss: 0.5325\n",
            "Epoch 69/100\n",
            " 1/16 [>.............................] - ETA: 0s - loss: 0.5313"
          ]
        },
        {
          "name": "stderr",
          "output_type": "stream",
          "text": [
            "2023-06-09 09:52:53.234431: I tensorflow/core/common_runtime/gpu_fusion_pass.cc:507] ROCm Fusion is enabled.\n",
            "2023-06-09 09:52:53.239057: I tensorflow/core/common_runtime/gpu_fusion_pass.cc:507] ROCm Fusion is enabled.\n",
            "2023-06-09 09:52:53.242675: I tensorflow/core/common_runtime/gpu_fusion_pass.cc:507] ROCm Fusion is enabled.\n",
            "2023-06-09 09:52:53.246248: I tensorflow/core/common_runtime/gpu_fusion_pass.cc:507] ROCm Fusion is enabled.\n",
            "2023-06-09 09:52:53.248732: I tensorflow/core/common_runtime/gpu_fusion_pass.cc:507] ROCm Fusion is enabled.\n",
            "2023-06-09 09:52:53.250582: I tensorflow/core/common_runtime/gpu_fusion_pass.cc:507] ROCm Fusion is enabled.\n",
            "2023-06-09 09:52:53.401989: I tensorflow/core/common_runtime/gpu_fusion_pass.cc:507] ROCm Fusion is enabled.\n",
            "2023-06-09 09:52:53.406622: I tensorflow/core/common_runtime/gpu_fusion_pass.cc:507] ROCm Fusion is enabled.\n",
            "2023-06-09 09:52:53.410621: I tensorflow/core/common_runtime/gpu_fusion_pass.cc:507] ROCm Fusion is enabled.\n",
            "2023-06-09 09:52:53.414628: I tensorflow/core/common_runtime/gpu_fusion_pass.cc:507] ROCm Fusion is enabled.\n",
            "2023-06-09 09:52:53.417242: I tensorflow/core/common_runtime/gpu_fusion_pass.cc:507] ROCm Fusion is enabled.\n",
            "2023-06-09 09:52:53.419172: I tensorflow/core/common_runtime/gpu_fusion_pass.cc:507] ROCm Fusion is enabled.\n"
          ]
        },
        {
          "name": "stdout",
          "output_type": "stream",
          "text": [
            "16/16 [==============================] - 0s 9ms/step - loss: 0.5323\n",
            "Epoch 70/100\n",
            "16/16 [==============================] - 0s 9ms/step - loss: 0.5322\n",
            "Epoch 71/100\n",
            " 1/16 [>.............................] - ETA: 0s - loss: 0.5326"
          ]
        },
        {
          "name": "stderr",
          "output_type": "stream",
          "text": [
            "2023-06-09 09:52:53.568853: I tensorflow/core/common_runtime/gpu_fusion_pass.cc:507] ROCm Fusion is enabled.\n",
            "2023-06-09 09:52:53.573473: I tensorflow/core/common_runtime/gpu_fusion_pass.cc:507] ROCm Fusion is enabled.\n",
            "2023-06-09 09:52:53.577374: I tensorflow/core/common_runtime/gpu_fusion_pass.cc:507] ROCm Fusion is enabled.\n",
            "2023-06-09 09:52:53.581129: I tensorflow/core/common_runtime/gpu_fusion_pass.cc:507] ROCm Fusion is enabled.\n",
            "2023-06-09 09:52:53.583683: I tensorflow/core/common_runtime/gpu_fusion_pass.cc:507] ROCm Fusion is enabled.\n",
            "2023-06-09 09:52:53.585576: I tensorflow/core/common_runtime/gpu_fusion_pass.cc:507] ROCm Fusion is enabled.\n",
            "2023-06-09 09:52:53.735960: I tensorflow/core/common_runtime/gpu_fusion_pass.cc:507] ROCm Fusion is enabled.\n",
            "2023-06-09 09:52:53.740504: I tensorflow/core/common_runtime/gpu_fusion_pass.cc:507] ROCm Fusion is enabled.\n",
            "2023-06-09 09:52:53.744164: I tensorflow/core/common_runtime/gpu_fusion_pass.cc:507] ROCm Fusion is enabled.\n",
            "2023-06-09 09:52:53.747795: I tensorflow/core/common_runtime/gpu_fusion_pass.cc:507] ROCm Fusion is enabled.\n",
            "2023-06-09 09:52:53.750232: I tensorflow/core/common_runtime/gpu_fusion_pass.cc:507] ROCm Fusion is enabled.\n",
            "2023-06-09 09:52:53.752114: I tensorflow/core/common_runtime/gpu_fusion_pass.cc:507] ROCm Fusion is enabled.\n"
          ]
        },
        {
          "name": "stdout",
          "output_type": "stream",
          "text": [
            "16/16 [==============================] - 0s 9ms/step - loss: 0.5323\n",
            "Epoch 72/100\n",
            "16/16 [==============================] - 0s 9ms/step - loss: 0.5322\n",
            "Epoch 73/100\n",
            " 1/16 [>.............................] - ETA: 0s - loss: 0.5322"
          ]
        },
        {
          "name": "stderr",
          "output_type": "stream",
          "text": [
            "2023-06-09 09:52:53.902779: I tensorflow/core/common_runtime/gpu_fusion_pass.cc:507] ROCm Fusion is enabled.\n",
            "2023-06-09 09:52:53.907404: I tensorflow/core/common_runtime/gpu_fusion_pass.cc:507] ROCm Fusion is enabled.\n",
            "2023-06-09 09:52:53.911051: I tensorflow/core/common_runtime/gpu_fusion_pass.cc:507] ROCm Fusion is enabled.\n",
            "2023-06-09 09:52:53.914777: I tensorflow/core/common_runtime/gpu_fusion_pass.cc:507] ROCm Fusion is enabled.\n",
            "2023-06-09 09:52:53.917204: I tensorflow/core/common_runtime/gpu_fusion_pass.cc:507] ROCm Fusion is enabled.\n",
            "2023-06-09 09:52:53.919220: I tensorflow/core/common_runtime/gpu_fusion_pass.cc:507] ROCm Fusion is enabled.\n",
            "2023-06-09 09:52:54.068516: I tensorflow/core/common_runtime/gpu_fusion_pass.cc:507] ROCm Fusion is enabled.\n",
            "2023-06-09 09:52:54.073142: I tensorflow/core/common_runtime/gpu_fusion_pass.cc:507] ROCm Fusion is enabled.\n",
            "2023-06-09 09:52:54.076792: I tensorflow/core/common_runtime/gpu_fusion_pass.cc:507] ROCm Fusion is enabled.\n",
            "2023-06-09 09:52:54.080384: I tensorflow/core/common_runtime/gpu_fusion_pass.cc:507] ROCm Fusion is enabled.\n",
            "2023-06-09 09:52:54.082868: I tensorflow/core/common_runtime/gpu_fusion_pass.cc:507] ROCm Fusion is enabled.\n",
            "2023-06-09 09:52:54.084781: I tensorflow/core/common_runtime/gpu_fusion_pass.cc:507] ROCm Fusion is enabled.\n"
          ]
        },
        {
          "name": "stdout",
          "output_type": "stream",
          "text": [
            "16/16 [==============================] - 0s 9ms/step - loss: 0.5320\n",
            "Epoch 74/100\n",
            "16/16 [==============================] - 0s 9ms/step - loss: 0.5310\n",
            "Epoch 75/100\n",
            " 1/16 [>.............................] - ETA: 0s - loss: 0.5206"
          ]
        },
        {
          "name": "stderr",
          "output_type": "stream",
          "text": [
            "2023-06-09 09:52:54.234535: I tensorflow/core/common_runtime/gpu_fusion_pass.cc:507] ROCm Fusion is enabled.\n",
            "2023-06-09 09:52:54.239211: I tensorflow/core/common_runtime/gpu_fusion_pass.cc:507] ROCm Fusion is enabled.\n",
            "2023-06-09 09:52:54.242812: I tensorflow/core/common_runtime/gpu_fusion_pass.cc:507] ROCm Fusion is enabled.\n",
            "2023-06-09 09:52:54.246374: I tensorflow/core/common_runtime/gpu_fusion_pass.cc:507] ROCm Fusion is enabled.\n",
            "2023-06-09 09:52:54.248839: I tensorflow/core/common_runtime/gpu_fusion_pass.cc:507] ROCm Fusion is enabled.\n",
            "2023-06-09 09:52:54.250723: I tensorflow/core/common_runtime/gpu_fusion_pass.cc:507] ROCm Fusion is enabled.\n",
            "2023-06-09 09:52:54.398842: I tensorflow/core/common_runtime/gpu_fusion_pass.cc:507] ROCm Fusion is enabled.\n",
            "2023-06-09 09:52:54.403185: I tensorflow/core/common_runtime/gpu_fusion_pass.cc:507] ROCm Fusion is enabled.\n",
            "2023-06-09 09:52:54.406860: I tensorflow/core/common_runtime/gpu_fusion_pass.cc:507] ROCm Fusion is enabled.\n",
            "2023-06-09 09:52:54.410477: I tensorflow/core/common_runtime/gpu_fusion_pass.cc:507] ROCm Fusion is enabled.\n",
            "2023-06-09 09:52:54.412956: I tensorflow/core/common_runtime/gpu_fusion_pass.cc:507] ROCm Fusion is enabled.\n",
            "2023-06-09 09:52:54.414887: I tensorflow/core/common_runtime/gpu_fusion_pass.cc:507] ROCm Fusion is enabled.\n"
          ]
        },
        {
          "name": "stdout",
          "output_type": "stream",
          "text": [
            "16/16 [==============================] - 0s 9ms/step - loss: 0.5206\n",
            "Epoch 76/100\n",
            "16/16 [==============================] - 0s 9ms/step - loss: 0.5191\n",
            "Epoch 77/100\n",
            " 1/16 [>.............................] - ETA: 0s - loss: 0.5194"
          ]
        },
        {
          "name": "stderr",
          "output_type": "stream",
          "text": [
            "2023-06-09 09:52:54.565680: I tensorflow/core/common_runtime/gpu_fusion_pass.cc:507] ROCm Fusion is enabled.\n",
            "2023-06-09 09:52:54.570748: I tensorflow/core/common_runtime/gpu_fusion_pass.cc:507] ROCm Fusion is enabled.\n",
            "2023-06-09 09:52:54.574691: I tensorflow/core/common_runtime/gpu_fusion_pass.cc:507] ROCm Fusion is enabled.\n",
            "2023-06-09 09:52:54.578584: I tensorflow/core/common_runtime/gpu_fusion_pass.cc:507] ROCm Fusion is enabled.\n",
            "2023-06-09 09:52:54.581082: I tensorflow/core/common_runtime/gpu_fusion_pass.cc:507] ROCm Fusion is enabled.\n",
            "2023-06-09 09:52:54.583042: I tensorflow/core/common_runtime/gpu_fusion_pass.cc:507] ROCm Fusion is enabled.\n",
            "2023-06-09 09:52:54.737218: I tensorflow/core/common_runtime/gpu_fusion_pass.cc:507] ROCm Fusion is enabled.\n",
            "2023-06-09 09:52:54.742000: I tensorflow/core/common_runtime/gpu_fusion_pass.cc:507] ROCm Fusion is enabled.\n",
            "2023-06-09 09:52:54.745989: I tensorflow/core/common_runtime/gpu_fusion_pass.cc:507] ROCm Fusion is enabled.\n",
            "2023-06-09 09:52:54.749837: I tensorflow/core/common_runtime/gpu_fusion_pass.cc:507] ROCm Fusion is enabled.\n",
            "2023-06-09 09:52:54.752485: I tensorflow/core/common_runtime/gpu_fusion_pass.cc:507] ROCm Fusion is enabled.\n",
            "2023-06-09 09:52:54.754455: I tensorflow/core/common_runtime/gpu_fusion_pass.cc:507] ROCm Fusion is enabled.\n"
          ]
        },
        {
          "name": "stdout",
          "output_type": "stream",
          "text": [
            "16/16 [==============================] - 0s 9ms/step - loss: 0.5191\n",
            "Epoch 78/100\n",
            "16/16 [==============================] - 0s 9ms/step - loss: 0.5189\n",
            "Epoch 79/100\n",
            " 1/16 [>.............................] - ETA: 0s - loss: 0.5181"
          ]
        },
        {
          "name": "stderr",
          "output_type": "stream",
          "text": [
            "2023-06-09 09:52:54.903944: I tensorflow/core/common_runtime/gpu_fusion_pass.cc:507] ROCm Fusion is enabled.\n",
            "2023-06-09 09:52:54.908576: I tensorflow/core/common_runtime/gpu_fusion_pass.cc:507] ROCm Fusion is enabled.\n",
            "2023-06-09 09:52:54.912354: I tensorflow/core/common_runtime/gpu_fusion_pass.cc:507] ROCm Fusion is enabled.\n",
            "2023-06-09 09:52:54.916047: I tensorflow/core/common_runtime/gpu_fusion_pass.cc:507] ROCm Fusion is enabled.\n",
            "2023-06-09 09:52:54.918554: I tensorflow/core/common_runtime/gpu_fusion_pass.cc:507] ROCm Fusion is enabled.\n",
            "2023-06-09 09:52:54.920499: I tensorflow/core/common_runtime/gpu_fusion_pass.cc:507] ROCm Fusion is enabled.\n",
            "2023-06-09 09:52:55.068143: I tensorflow/core/common_runtime/gpu_fusion_pass.cc:507] ROCm Fusion is enabled.\n",
            "2023-06-09 09:52:55.073156: I tensorflow/core/common_runtime/gpu_fusion_pass.cc:507] ROCm Fusion is enabled.\n",
            "2023-06-09 09:52:55.077028: I tensorflow/core/common_runtime/gpu_fusion_pass.cc:507] ROCm Fusion is enabled.\n",
            "2023-06-09 09:52:55.080824: I tensorflow/core/common_runtime/gpu_fusion_pass.cc:507] ROCm Fusion is enabled.\n",
            "2023-06-09 09:52:55.083358: I tensorflow/core/common_runtime/gpu_fusion_pass.cc:507] ROCm Fusion is enabled.\n",
            "2023-06-09 09:52:55.085272: I tensorflow/core/common_runtime/gpu_fusion_pass.cc:507] ROCm Fusion is enabled.\n"
          ]
        },
        {
          "name": "stdout",
          "output_type": "stream",
          "text": [
            "16/16 [==============================] - 0s 9ms/step - loss: 0.5187\n",
            "Epoch 80/100\n",
            "16/16 [==============================] - 0s 9ms/step - loss: 0.5187\n",
            "Epoch 81/100\n",
            " 1/16 [>.............................] - ETA: 0s - loss: 0.5184"
          ]
        },
        {
          "name": "stderr",
          "output_type": "stream",
          "text": [
            "2023-06-09 09:52:55.235237: I tensorflow/core/common_runtime/gpu_fusion_pass.cc:507] ROCm Fusion is enabled.\n",
            "2023-06-09 09:52:55.239970: I tensorflow/core/common_runtime/gpu_fusion_pass.cc:507] ROCm Fusion is enabled.\n",
            "2023-06-09 09:52:55.243614: I tensorflow/core/common_runtime/gpu_fusion_pass.cc:507] ROCm Fusion is enabled.\n",
            "2023-06-09 09:52:55.247192: I tensorflow/core/common_runtime/gpu_fusion_pass.cc:507] ROCm Fusion is enabled.\n",
            "2023-06-09 09:52:55.249683: I tensorflow/core/common_runtime/gpu_fusion_pass.cc:507] ROCm Fusion is enabled.\n",
            "2023-06-09 09:52:55.251555: I tensorflow/core/common_runtime/gpu_fusion_pass.cc:507] ROCm Fusion is enabled.\n",
            "2023-06-09 09:52:55.399169: I tensorflow/core/common_runtime/gpu_fusion_pass.cc:507] ROCm Fusion is enabled.\n",
            "2023-06-09 09:52:55.403734: I tensorflow/core/common_runtime/gpu_fusion_pass.cc:507] ROCm Fusion is enabled.\n",
            "2023-06-09 09:52:55.407676: I tensorflow/core/common_runtime/gpu_fusion_pass.cc:507] ROCm Fusion is enabled.\n",
            "2023-06-09 09:52:55.411445: I tensorflow/core/common_runtime/gpu_fusion_pass.cc:507] ROCm Fusion is enabled.\n",
            "2023-06-09 09:52:55.414008: I tensorflow/core/common_runtime/gpu_fusion_pass.cc:507] ROCm Fusion is enabled.\n",
            "2023-06-09 09:52:55.415918: I tensorflow/core/common_runtime/gpu_fusion_pass.cc:507] ROCm Fusion is enabled.\n"
          ]
        },
        {
          "name": "stdout",
          "output_type": "stream",
          "text": [
            "16/16 [==============================] - 0s 9ms/step - loss: 0.5186\n",
            "Epoch 82/100\n",
            "16/16 [==============================] - 0s 9ms/step - loss: 0.5185\n",
            "Epoch 83/100\n",
            " 1/16 [>.............................] - ETA: 0s - loss: 0.5185"
          ]
        },
        {
          "name": "stderr",
          "output_type": "stream",
          "text": [
            "2023-06-09 09:52:55.564530: I tensorflow/core/common_runtime/gpu_fusion_pass.cc:507] ROCm Fusion is enabled.\n",
            "2023-06-09 09:52:55.569354: I tensorflow/core/common_runtime/gpu_fusion_pass.cc:507] ROCm Fusion is enabled.\n",
            "2023-06-09 09:52:55.572952: I tensorflow/core/common_runtime/gpu_fusion_pass.cc:507] ROCm Fusion is enabled.\n",
            "2023-06-09 09:52:55.576571: I tensorflow/core/common_runtime/gpu_fusion_pass.cc:507] ROCm Fusion is enabled.\n",
            "2023-06-09 09:52:55.579027: I tensorflow/core/common_runtime/gpu_fusion_pass.cc:507] ROCm Fusion is enabled.\n",
            "2023-06-09 09:52:55.580946: I tensorflow/core/common_runtime/gpu_fusion_pass.cc:507] ROCm Fusion is enabled.\n",
            "2023-06-09 09:52:55.728272: I tensorflow/core/common_runtime/gpu_fusion_pass.cc:507] ROCm Fusion is enabled.\n",
            "2023-06-09 09:52:55.732677: I tensorflow/core/common_runtime/gpu_fusion_pass.cc:507] ROCm Fusion is enabled.\n",
            "2023-06-09 09:52:55.736393: I tensorflow/core/common_runtime/gpu_fusion_pass.cc:507] ROCm Fusion is enabled.\n",
            "2023-06-09 09:52:55.740054: I tensorflow/core/common_runtime/gpu_fusion_pass.cc:507] ROCm Fusion is enabled.\n",
            "2023-06-09 09:52:55.742522: I tensorflow/core/common_runtime/gpu_fusion_pass.cc:507] ROCm Fusion is enabled.\n",
            "2023-06-09 09:52:55.744475: I tensorflow/core/common_runtime/gpu_fusion_pass.cc:507] ROCm Fusion is enabled.\n"
          ]
        },
        {
          "name": "stdout",
          "output_type": "stream",
          "text": [
            "16/16 [==============================] - 0s 9ms/step - loss: 0.5184\n",
            "Epoch 84/100\n",
            "16/16 [==============================] - 0s 9ms/step - loss: 0.5094\n",
            "Epoch 85/100\n",
            " 1/16 [>.............................] - ETA: 0s - loss: 0.5061"
          ]
        },
        {
          "name": "stderr",
          "output_type": "stream",
          "text": [
            "2023-06-09 09:52:55.892939: I tensorflow/core/common_runtime/gpu_fusion_pass.cc:507] ROCm Fusion is enabled.\n",
            "2023-06-09 09:52:55.897859: I tensorflow/core/common_runtime/gpu_fusion_pass.cc:507] ROCm Fusion is enabled.\n",
            "2023-06-09 09:52:55.901505: I tensorflow/core/common_runtime/gpu_fusion_pass.cc:507] ROCm Fusion is enabled.\n",
            "2023-06-09 09:52:55.905152: I tensorflow/core/common_runtime/gpu_fusion_pass.cc:507] ROCm Fusion is enabled.\n",
            "2023-06-09 09:52:55.907654: I tensorflow/core/common_runtime/gpu_fusion_pass.cc:507] ROCm Fusion is enabled.\n",
            "2023-06-09 09:52:55.909564: I tensorflow/core/common_runtime/gpu_fusion_pass.cc:507] ROCm Fusion is enabled.\n",
            "2023-06-09 09:52:56.059850: I tensorflow/core/common_runtime/gpu_fusion_pass.cc:507] ROCm Fusion is enabled.\n",
            "2023-06-09 09:52:56.064670: I tensorflow/core/common_runtime/gpu_fusion_pass.cc:507] ROCm Fusion is enabled.\n",
            "2023-06-09 09:52:56.068454: I tensorflow/core/common_runtime/gpu_fusion_pass.cc:507] ROCm Fusion is enabled.\n",
            "2023-06-09 09:52:56.072174: I tensorflow/core/common_runtime/gpu_fusion_pass.cc:507] ROCm Fusion is enabled.\n",
            "2023-06-09 09:52:56.074739: I tensorflow/core/common_runtime/gpu_fusion_pass.cc:507] ROCm Fusion is enabled.\n",
            "2023-06-09 09:52:56.076683: I tensorflow/core/common_runtime/gpu_fusion_pass.cc:507] ROCm Fusion is enabled.\n"
          ]
        },
        {
          "name": "stdout",
          "output_type": "stream",
          "text": [
            "16/16 [==============================] - 0s 9ms/step - loss: 0.5062\n",
            "Epoch 86/100\n",
            "16/16 [==============================] - 0s 9ms/step - loss: 0.5058\n",
            "Epoch 87/100\n",
            " 1/16 [>.............................] - ETA: 0s - loss: 0.5052"
          ]
        },
        {
          "name": "stderr",
          "output_type": "stream",
          "text": [
            "2023-06-09 09:52:56.224943: I tensorflow/core/common_runtime/gpu_fusion_pass.cc:507] ROCm Fusion is enabled.\n",
            "2023-06-09 09:52:56.229753: I tensorflow/core/common_runtime/gpu_fusion_pass.cc:507] ROCm Fusion is enabled.\n",
            "2023-06-09 09:52:56.233388: I tensorflow/core/common_runtime/gpu_fusion_pass.cc:507] ROCm Fusion is enabled.\n",
            "2023-06-09 09:52:56.237077: I tensorflow/core/common_runtime/gpu_fusion_pass.cc:507] ROCm Fusion is enabled.\n",
            "2023-06-09 09:52:56.239552: I tensorflow/core/common_runtime/gpu_fusion_pass.cc:507] ROCm Fusion is enabled.\n",
            "2023-06-09 09:52:56.241471: I tensorflow/core/common_runtime/gpu_fusion_pass.cc:507] ROCm Fusion is enabled.\n",
            "2023-06-09 09:52:56.388874: I tensorflow/core/common_runtime/gpu_fusion_pass.cc:507] ROCm Fusion is enabled.\n",
            "2023-06-09 09:52:56.393366: I tensorflow/core/common_runtime/gpu_fusion_pass.cc:507] ROCm Fusion is enabled.\n",
            "2023-06-09 09:52:56.397056: I tensorflow/core/common_runtime/gpu_fusion_pass.cc:507] ROCm Fusion is enabled.\n",
            "2023-06-09 09:52:56.400672: I tensorflow/core/common_runtime/gpu_fusion_pass.cc:507] ROCm Fusion is enabled.\n",
            "2023-06-09 09:52:56.403133: I tensorflow/core/common_runtime/gpu_fusion_pass.cc:507] ROCm Fusion is enabled.\n",
            "2023-06-09 09:52:56.405037: I tensorflow/core/common_runtime/gpu_fusion_pass.cc:507] ROCm Fusion is enabled.\n"
          ]
        },
        {
          "name": "stdout",
          "output_type": "stream",
          "text": [
            "16/16 [==============================] - 0s 9ms/step - loss: 0.5055\n",
            "Epoch 88/100\n",
            "16/16 [==============================] - 0s 9ms/step - loss: 0.5053\n",
            "Epoch 89/100\n",
            " 1/16 [>.............................] - ETA: 0s - loss: 0.5046"
          ]
        },
        {
          "name": "stderr",
          "output_type": "stream",
          "text": [
            "2023-06-09 09:52:56.554788: I tensorflow/core/common_runtime/gpu_fusion_pass.cc:507] ROCm Fusion is enabled.\n",
            "2023-06-09 09:52:56.560091: I tensorflow/core/common_runtime/gpu_fusion_pass.cc:507] ROCm Fusion is enabled.\n",
            "2023-06-09 09:52:56.563995: I tensorflow/core/common_runtime/gpu_fusion_pass.cc:507] ROCm Fusion is enabled.\n",
            "2023-06-09 09:52:56.567760: I tensorflow/core/common_runtime/gpu_fusion_pass.cc:507] ROCm Fusion is enabled.\n",
            "2023-06-09 09:52:56.570290: I tensorflow/core/common_runtime/gpu_fusion_pass.cc:507] ROCm Fusion is enabled.\n",
            "2023-06-09 09:52:56.572197: I tensorflow/core/common_runtime/gpu_fusion_pass.cc:507] ROCm Fusion is enabled.\n",
            "2023-06-09 09:52:56.721469: I tensorflow/core/common_runtime/gpu_fusion_pass.cc:507] ROCm Fusion is enabled.\n",
            "2023-06-09 09:52:56.726255: I tensorflow/core/common_runtime/gpu_fusion_pass.cc:507] ROCm Fusion is enabled.\n",
            "2023-06-09 09:52:56.729976: I tensorflow/core/common_runtime/gpu_fusion_pass.cc:507] ROCm Fusion is enabled.\n",
            "2023-06-09 09:52:56.733581: I tensorflow/core/common_runtime/gpu_fusion_pass.cc:507] ROCm Fusion is enabled.\n",
            "2023-06-09 09:52:56.736038: I tensorflow/core/common_runtime/gpu_fusion_pass.cc:507] ROCm Fusion is enabled.\n",
            "2023-06-09 09:52:56.738076: I tensorflow/core/common_runtime/gpu_fusion_pass.cc:507] ROCm Fusion is enabled.\n"
          ]
        },
        {
          "name": "stdout",
          "output_type": "stream",
          "text": [
            "16/16 [==============================] - 0s 9ms/step - loss: 0.5052\n",
            "Epoch 90/100\n",
            "16/16 [==============================] - 0s 9ms/step - loss: 0.5051\n",
            "Epoch 91/100\n",
            " 1/16 [>.............................] - ETA: 0s - loss: 0.5052"
          ]
        },
        {
          "name": "stderr",
          "output_type": "stream",
          "text": [
            "2023-06-09 09:52:56.887463: I tensorflow/core/common_runtime/gpu_fusion_pass.cc:507] ROCm Fusion is enabled.\n",
            "2023-06-09 09:52:56.892572: I tensorflow/core/common_runtime/gpu_fusion_pass.cc:507] ROCm Fusion is enabled.\n",
            "2023-06-09 09:52:56.896490: I tensorflow/core/common_runtime/gpu_fusion_pass.cc:507] ROCm Fusion is enabled.\n",
            "2023-06-09 09:52:56.900154: I tensorflow/core/common_runtime/gpu_fusion_pass.cc:507] ROCm Fusion is enabled.\n",
            "2023-06-09 09:52:56.902632: I tensorflow/core/common_runtime/gpu_fusion_pass.cc:507] ROCm Fusion is enabled.\n",
            "2023-06-09 09:52:56.904531: I tensorflow/core/common_runtime/gpu_fusion_pass.cc:507] ROCm Fusion is enabled.\n",
            "2023-06-09 09:52:57.053991: I tensorflow/core/common_runtime/gpu_fusion_pass.cc:507] ROCm Fusion is enabled.\n",
            "2023-06-09 09:52:57.058649: I tensorflow/core/common_runtime/gpu_fusion_pass.cc:507] ROCm Fusion is enabled.\n",
            "2023-06-09 09:52:57.062600: I tensorflow/core/common_runtime/gpu_fusion_pass.cc:507] ROCm Fusion is enabled.\n",
            "2023-06-09 09:52:57.066280: I tensorflow/core/common_runtime/gpu_fusion_pass.cc:507] ROCm Fusion is enabled.\n",
            "2023-06-09 09:52:57.068803: I tensorflow/core/common_runtime/gpu_fusion_pass.cc:507] ROCm Fusion is enabled.\n",
            "2023-06-09 09:52:57.070756: I tensorflow/core/common_runtime/gpu_fusion_pass.cc:507] ROCm Fusion is enabled.\n"
          ]
        },
        {
          "name": "stdout",
          "output_type": "stream",
          "text": [
            "16/16 [==============================] - 0s 9ms/step - loss: 0.5051\n",
            "Epoch 92/100\n",
            "16/16 [==============================] - 0s 9ms/step - loss: 0.5050\n",
            "Epoch 93/100\n",
            " 1/16 [>.............................] - ETA: 0s - loss: 0.5044"
          ]
        },
        {
          "name": "stderr",
          "output_type": "stream",
          "text": [
            "2023-06-09 09:52:57.220645: I tensorflow/core/common_runtime/gpu_fusion_pass.cc:507] ROCm Fusion is enabled.\n",
            "2023-06-09 09:52:57.225793: I tensorflow/core/common_runtime/gpu_fusion_pass.cc:507] ROCm Fusion is enabled.\n",
            "2023-06-09 09:52:57.229791: I tensorflow/core/common_runtime/gpu_fusion_pass.cc:507] ROCm Fusion is enabled.\n",
            "2023-06-09 09:52:57.233637: I tensorflow/core/common_runtime/gpu_fusion_pass.cc:507] ROCm Fusion is enabled.\n",
            "2023-06-09 09:52:57.236154: I tensorflow/core/common_runtime/gpu_fusion_pass.cc:507] ROCm Fusion is enabled.\n",
            "2023-06-09 09:52:57.238082: I tensorflow/core/common_runtime/gpu_fusion_pass.cc:507] ROCm Fusion is enabled.\n",
            "2023-06-09 09:52:57.388305: I tensorflow/core/common_runtime/gpu_fusion_pass.cc:507] ROCm Fusion is enabled.\n",
            "2023-06-09 09:52:57.392916: I tensorflow/core/common_runtime/gpu_fusion_pass.cc:507] ROCm Fusion is enabled.\n",
            "2023-06-09 09:52:57.396633: I tensorflow/core/common_runtime/gpu_fusion_pass.cc:507] ROCm Fusion is enabled.\n",
            "2023-06-09 09:52:57.400296: I tensorflow/core/common_runtime/gpu_fusion_pass.cc:507] ROCm Fusion is enabled.\n",
            "2023-06-09 09:52:57.402824: I tensorflow/core/common_runtime/gpu_fusion_pass.cc:507] ROCm Fusion is enabled.\n",
            "2023-06-09 09:52:57.404745: I tensorflow/core/common_runtime/gpu_fusion_pass.cc:507] ROCm Fusion is enabled.\n"
          ]
        },
        {
          "name": "stdout",
          "output_type": "stream",
          "text": [
            "16/16 [==============================] - 0s 9ms/step - loss: 0.5049\n",
            "Epoch 94/100\n",
            "16/16 [==============================] - 0s 9ms/step - loss: 0.5048\n",
            "Epoch 95/100\n",
            " 1/16 [>.............................] - ETA: 0s - loss: 0.5046"
          ]
        },
        {
          "name": "stderr",
          "output_type": "stream",
          "text": [
            "2023-06-09 09:52:57.551226: I tensorflow/core/common_runtime/gpu_fusion_pass.cc:507] ROCm Fusion is enabled.\n",
            "2023-06-09 09:52:57.555999: I tensorflow/core/common_runtime/gpu_fusion_pass.cc:507] ROCm Fusion is enabled.\n",
            "2023-06-09 09:52:57.559671: I tensorflow/core/common_runtime/gpu_fusion_pass.cc:507] ROCm Fusion is enabled.\n",
            "2023-06-09 09:52:57.563369: I tensorflow/core/common_runtime/gpu_fusion_pass.cc:507] ROCm Fusion is enabled.\n",
            "2023-06-09 09:52:57.565872: I tensorflow/core/common_runtime/gpu_fusion_pass.cc:507] ROCm Fusion is enabled.\n",
            "2023-06-09 09:52:57.567795: I tensorflow/core/common_runtime/gpu_fusion_pass.cc:507] ROCm Fusion is enabled.\n",
            "2023-06-09 09:52:57.713928: I tensorflow/core/common_runtime/gpu_fusion_pass.cc:507] ROCm Fusion is enabled.\n",
            "2023-06-09 09:52:57.718327: I tensorflow/core/common_runtime/gpu_fusion_pass.cc:507] ROCm Fusion is enabled.\n",
            "2023-06-09 09:52:57.722225: I tensorflow/core/common_runtime/gpu_fusion_pass.cc:507] ROCm Fusion is enabled.\n",
            "2023-06-09 09:52:57.725833: I tensorflow/core/common_runtime/gpu_fusion_pass.cc:507] ROCm Fusion is enabled.\n",
            "2023-06-09 09:52:57.728340: I tensorflow/core/common_runtime/gpu_fusion_pass.cc:507] ROCm Fusion is enabled.\n",
            "2023-06-09 09:52:57.730249: I tensorflow/core/common_runtime/gpu_fusion_pass.cc:507] ROCm Fusion is enabled.\n"
          ]
        },
        {
          "name": "stdout",
          "output_type": "stream",
          "text": [
            "16/16 [==============================] - 0s 9ms/step - loss: 0.5048\n",
            "Epoch 96/100\n",
            "16/16 [==============================] - 0s 9ms/step - loss: 0.5047\n",
            "Epoch 97/100\n",
            " 1/16 [>.............................] - ETA: 0s - loss: 0.5049"
          ]
        },
        {
          "name": "stderr",
          "output_type": "stream",
          "text": [
            "2023-06-09 09:52:57.879255: I tensorflow/core/common_runtime/gpu_fusion_pass.cc:507] ROCm Fusion is enabled.\n",
            "2023-06-09 09:52:57.885314: I tensorflow/core/common_runtime/gpu_fusion_pass.cc:507] ROCm Fusion is enabled.\n",
            "2023-06-09 09:52:57.889233: I tensorflow/core/common_runtime/gpu_fusion_pass.cc:507] ROCm Fusion is enabled.\n",
            "2023-06-09 09:52:57.893375: I tensorflow/core/common_runtime/gpu_fusion_pass.cc:507] ROCm Fusion is enabled.\n",
            "2023-06-09 09:52:57.895880: I tensorflow/core/common_runtime/gpu_fusion_pass.cc:507] ROCm Fusion is enabled.\n",
            "2023-06-09 09:52:57.897827: I tensorflow/core/common_runtime/gpu_fusion_pass.cc:507] ROCm Fusion is enabled.\n",
            "2023-06-09 09:52:58.045844: I tensorflow/core/common_runtime/gpu_fusion_pass.cc:507] ROCm Fusion is enabled.\n",
            "2023-06-09 09:52:58.050517: I tensorflow/core/common_runtime/gpu_fusion_pass.cc:507] ROCm Fusion is enabled.\n",
            "2023-06-09 09:52:58.054355: I tensorflow/core/common_runtime/gpu_fusion_pass.cc:507] ROCm Fusion is enabled.\n",
            "2023-06-09 09:52:58.058051: I tensorflow/core/common_runtime/gpu_fusion_pass.cc:507] ROCm Fusion is enabled.\n",
            "2023-06-09 09:52:58.060550: I tensorflow/core/common_runtime/gpu_fusion_pass.cc:507] ROCm Fusion is enabled.\n",
            "2023-06-09 09:52:58.062446: I tensorflow/core/common_runtime/gpu_fusion_pass.cc:507] ROCm Fusion is enabled.\n"
          ]
        },
        {
          "name": "stdout",
          "output_type": "stream",
          "text": [
            "16/16 [==============================] - 0s 9ms/step - loss: 0.5046\n",
            "Epoch 98/100\n",
            "16/16 [==============================] - 0s 9ms/step - loss: 0.5051\n",
            "Epoch 99/100\n",
            " 1/16 [>.............................] - ETA: 0s - loss: 0.5033"
          ]
        },
        {
          "name": "stderr",
          "output_type": "stream",
          "text": [
            "2023-06-09 09:52:58.210950: I tensorflow/core/common_runtime/gpu_fusion_pass.cc:507] ROCm Fusion is enabled.\n",
            "2023-06-09 09:52:58.215760: I tensorflow/core/common_runtime/gpu_fusion_pass.cc:507] ROCm Fusion is enabled.\n",
            "2023-06-09 09:52:58.219378: I tensorflow/core/common_runtime/gpu_fusion_pass.cc:507] ROCm Fusion is enabled.\n",
            "2023-06-09 09:52:58.222933: I tensorflow/core/common_runtime/gpu_fusion_pass.cc:507] ROCm Fusion is enabled.\n",
            "2023-06-09 09:52:58.225388: I tensorflow/core/common_runtime/gpu_fusion_pass.cc:507] ROCm Fusion is enabled.\n",
            "2023-06-09 09:52:58.227277: I tensorflow/core/common_runtime/gpu_fusion_pass.cc:507] ROCm Fusion is enabled.\n",
            "2023-06-09 09:52:58.375064: I tensorflow/core/common_runtime/gpu_fusion_pass.cc:507] ROCm Fusion is enabled.\n",
            "2023-06-09 09:52:58.379999: I tensorflow/core/common_runtime/gpu_fusion_pass.cc:507] ROCm Fusion is enabled.\n",
            "2023-06-09 09:52:58.383837: I tensorflow/core/common_runtime/gpu_fusion_pass.cc:507] ROCm Fusion is enabled.\n",
            "2023-06-09 09:52:58.387565: I tensorflow/core/common_runtime/gpu_fusion_pass.cc:507] ROCm Fusion is enabled.\n",
            "2023-06-09 09:52:58.390053: I tensorflow/core/common_runtime/gpu_fusion_pass.cc:507] ROCm Fusion is enabled.\n",
            "2023-06-09 09:52:58.392080: I tensorflow/core/common_runtime/gpu_fusion_pass.cc:507] ROCm Fusion is enabled.\n"
          ]
        },
        {
          "name": "stdout",
          "output_type": "stream",
          "text": [
            "16/16 [==============================] - 0s 9ms/step - loss: 0.5044\n",
            "Epoch 100/100\n",
            "16/16 [==============================] - 0s 9ms/step - loss: 0.5049\n",
            "Weights:\n",
            "[[ 0.48892882 -0.8312438  -0.10280956  0.00190509]\n",
            " [ 0.00136472 -0.00189839 -0.00231255 -0.00064262]\n",
            " [ 0.00479346  0.7256798  -0.00164934  1.6223618 ]]\n",
            "Recurrent Weights:\n",
            "[[ 0.19497263  0.5091688 ]\n",
            " [ 1.2023176  -0.00151236]\n",
            " [-0.00324715 -0.00129733]]\n",
            "Bias:\n",
            "[0.58218807 0.53639454 0.35646263 1.3335382 ]\n",
            "Recurrent Bias:\n",
            "[ 0.3437402  -0.47407895]\n",
            "Initial state:\n",
            "[-0.5055874   0.99322075]\n"
          ]
        },
        {
          "name": "stderr",
          "output_type": "stream",
          "text": [
            "2023-06-09 09:52:58.540778: I tensorflow/core/common_runtime/gpu_fusion_pass.cc:507] ROCm Fusion is enabled.\n",
            "2023-06-09 09:52:58.545841: I tensorflow/core/common_runtime/gpu_fusion_pass.cc:507] ROCm Fusion is enabled.\n",
            "2023-06-09 09:52:58.549547: I tensorflow/core/common_runtime/gpu_fusion_pass.cc:507] ROCm Fusion is enabled.\n",
            "2023-06-09 09:52:58.553229: I tensorflow/core/common_runtime/gpu_fusion_pass.cc:507] ROCm Fusion is enabled.\n",
            "2023-06-09 09:52:58.555721: I tensorflow/core/common_runtime/gpu_fusion_pass.cc:507] ROCm Fusion is enabled.\n",
            "2023-06-09 09:52:58.557655: I tensorflow/core/common_runtime/gpu_fusion_pass.cc:507] ROCm Fusion is enabled.\n",
            "2023-06-09 09:52:58.701481: I tensorflow/core/common_runtime/gpu_fusion_pass.cc:507] ROCm Fusion is enabled.\n",
            "2023-06-09 09:52:58.702134: I tensorflow/core/common_runtime/gpu_fusion_pass.cc:507] ROCm Fusion is enabled.\n",
            "2023-06-09 09:52:58.702657: I tensorflow/core/common_runtime/gpu_fusion_pass.cc:507] ROCm Fusion is enabled.\n",
            "2023-06-09 09:52:58.703151: I tensorflow/core/common_runtime/gpu_fusion_pass.cc:507] ROCm Fusion is enabled.\n"
          ]
        }
      ],
      "source": [
        "import numpy as np\n",
        "import tensorflow as tf\n",
        "from tensorflow.keras import Model\n",
        "from tensorflow.keras.layers import Input\n",
        "from tensorflow.keras.losses import MeanSquaredError, MeanAbsoluteError\n",
        "from tensorflow.keras.optimizers import Adam\n",
        "from tensorflow.keras.layers import Dense\n",
        "from tensorflow.keras.callbacks import TensorBoard\n",
        "\n",
        "def create_dataset(num_samples=1000, seq_len=10):\n",
        "    X = np.random.choice([-1, 1], (num_samples, seq_len, 1))\n",
        "    y = np.pad(X[:, :-1], ((0, 0), (1, 0), (0, 0))) # Shifting the sequence to the right\n",
        "    y[:, 0, :] = -1 # Set first element to -1 rather than 0\n",
        "    return X, y\n",
        "\n",
        "seq_len = 12\n",
        "reg = SparseRegularizer(intensity = 0.1, threshold=0.025, steepness=30, l1=0.01)\n",
        "activation = InterpolatedAmeoActivation(0.6, leakyness=1)\n",
        "input_layer = Input(shape=(seq_len, 1))\n",
        "rnn_cell = CustomRNNCell(output_dim=4, state_size=2, activation=activation, trainable_initial_weights=True, kernel_regularizer=reg, recurrent_regularizer=reg)\n",
        "rnn_layer = CustomRNN(rnn_cell, return_sequences=True)(input_layer)\n",
        "dense_layer = Dense(1, kernel_regularizer=reg, activation='linear')(rnn_layer)\n",
        "model = Model(inputs=input_layer, outputs=dense_layer)\n",
        "\n",
        "model.compile(loss=MeanSquaredError(), optimizer=Adam(learning_rate=0.01))\n",
        "\n",
        "# Training loop\n",
        "epochs = 100\n",
        "for epoch in range(epochs):\n",
        "    print(f\"Epoch {epoch+1}/{epochs}\")\n",
        "    X_train, y_train = create_dataset(2000, seq_len)\n",
        "    model.fit(X_train, y_train, epochs=1, batch_size=128, verbose=1, callbacks=[])\n",
        "\n",
        "# Print the weights, biases, and learned initial states\n",
        "np.set_printoptions(suppress=True)\n",
        "for layer in model.layers:\n",
        "    if isinstance(layer, CustomRNN):\n",
        "        print(\"Weights:\")\n",
        "        print(layer.cell.kernel.numpy())\n",
        "        print(\"Recurrent Weights:\")\n",
        "        print(layer.cell.recurrent_kernel.numpy())\n",
        "        if layer.cell.use_bias:\n",
        "            print(\"Bias:\")\n",
        "            print(layer.cell.bias.numpy())\n",
        "            print(\"Recurrent Bias:\")\n",
        "            print(layer.cell.recurrent_bias.numpy())\n",
        "        if layer.cell.trainable_initial_weights:\n",
        "            print(\"Initial state:\")\n",
        "            print(layer.cell.initial_state.numpy())\n"
      ]
    },
    {
      "cell_type": "code",
      "execution_count": 10,
      "metadata": {
        "colab": {
          "base_uri": "https://localhost:8080/"
        },
        "id": "eyt8qmiffHLS",
        "outputId": "aad1f46b-3c82-4d69-a656-ef44ca9c29f5"
      },
      "outputs": [
        {
          "name": "stderr",
          "output_type": "stream",
          "text": [
            "2023-06-09 09:53:10.029599: I tensorflow/core/common_runtime/gpu_fusion_pass.cc:507] ROCm Fusion is enabled.\n",
            "2023-06-09 09:53:10.037862: I tensorflow/core/common_runtime/gpu_fusion_pass.cc:507] ROCm Fusion is enabled.\n",
            "2023-06-09 09:53:10.040711: I tensorflow/core/common_runtime/gpu_fusion_pass.cc:507] ROCm Fusion is enabled.\n",
            "2023-06-09 09:53:10.045122: I tensorflow/core/common_runtime/gpu_fusion_pass.cc:507] ROCm Fusion is enabled.\n",
            "2023-06-09 09:53:10.048009: I tensorflow/core/common_runtime/gpu_fusion_pass.cc:507] ROCm Fusion is enabled.\n",
            "2023-06-09 09:53:10.049969: I tensorflow/core/common_runtime/gpu_fusion_pass.cc:507] ROCm Fusion is enabled.\n"
          ]
        },
        {
          "name": "stdout",
          "output_type": "stream",
          "text": [
            "1/1 [==============================] - 1s 891ms/step\n",
            "Input sequence:\n",
            "[[-1]\n",
            " [-1]\n",
            " [-1]\n",
            " [ 1]\n",
            " [-1]\n",
            " [-1]\n",
            " [ 1]\n",
            " [-1]\n",
            " [ 1]\n",
            " [ 1]\n",
            " [ 1]\n",
            " [-1]]\n",
            "True output sequence:\n",
            "[[-1]\n",
            " [-1]\n",
            " [-1]\n",
            " [-1]\n",
            " [ 1]\n",
            " [-1]\n",
            " [-1]\n",
            " [ 1]\n",
            " [-1]\n",
            " [ 1]\n",
            " [ 1]\n",
            " [ 1]]\n",
            "Predicted output sequence:\n",
            "[[-1.0102682]\n",
            " [-1.0065255]\n",
            " [-1.0083642]\n",
            " [-1.0071788]\n",
            " [ 1.0491452]\n",
            " [-1.0057166]\n",
            " [-1.0094914]\n",
            " [ 1.0562344]\n",
            " [-1.0087681]\n",
            " [ 1.0513773]\n",
            " [ 1.0476873]\n",
            " [ 1.0585167]]\n"
          ]
        },
        {
          "name": "stderr",
          "output_type": "stream",
          "text": [
            "2023-06-09 09:53:10.911011: I tensorflow/core/common_runtime/gpu_fusion_pass.cc:507] ROCm Fusion is enabled.\n"
          ]
        }
      ],
      "source": [
        "# Generate a sequence\n",
        "X_test, y_test = create_dataset(num_samples=1, seq_len=seq_len)\n",
        "\n",
        "# Predict the output sequence\n",
        "y_pred = model.predict(X_test)\n",
        "\n",
        "# Print the input and output sequences\n",
        "print(\"Input sequence:\")\n",
        "print(X_test[0])\n",
        "print(\"True output sequence:\")\n",
        "print(y_test[0])\n",
        "print(\"Predicted output sequence:\")\n",
        "print(y_pred[0])\n"
      ]
    }
  ],
  "metadata": {
    "colab": {
      "provenance": []
    },
    "kernelspec": {
      "display_name": "Python 3",
      "name": "python3"
    },
    "language_info": {
      "codemirror_mode": {
        "name": "ipython",
        "version": 3
      },
      "file_extension": ".py",
      "mimetype": "text/x-python",
      "name": "python",
      "nbconvert_exporter": "python",
      "pygments_lexer": "ipython3",
      "version": "3.10.6"
    }
  },
  "nbformat": 4,
  "nbformat_minor": 0
}
